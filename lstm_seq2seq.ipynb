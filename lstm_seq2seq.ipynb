{
 "cells": [
  {
   "cell_type": "markdown",
   "metadata": {
    "id": "ro4XM1kZ-UDR"
   },
   "source": [
    "# Character-level recurrent sequence-to-sequence model\n",
    "\n",
    "**Author:** [fchollet](https://twitter.com/fchollet)<br>\n",
    "**Date created:** 2017/09/29<br>\n",
    "**Last modified:** 2020/04/26<br>\n",
    "**Description:** Character-level recurrent sequence-to-sequence model."
   ]
  },
  {
   "cell_type": "markdown",
   "metadata": {
    "id": "qA3wWKW9-UDj"
   },
   "source": [
    "## Introduction\n",
    "\n",
    "This example demonstrates how to implement a basic character-level\n",
    "recurrent sequence-to-sequence model. We apply it to translating\n",
    "short English sentences into short French sentences,\n",
    "character-by-character. Note that it is fairly unusual to\n",
    "do character-level machine translation, as word-level\n",
    "models are more common in this domain.\n",
    "\n",
    "**Summary of the algorithm**\n",
    "\n",
    "- We start with input sequences from a domain (e.g. English sentences)\n",
    "    and corresponding target sequences from another domain\n",
    "    (e.g. French sentences).\n",
    "- An encoder LSTM turns input sequences to 2 state vectors\n",
    "    (we keep the last LSTM state and discard the outputs).\n",
    "- A decoder LSTM is trained to turn the target sequences into\n",
    "    the same sequence but offset by one timestep in the future,\n",
    "    a training process called \"teacher forcing\" in this context.\n",
    "    It uses as initial state the state vectors from the encoder.\n",
    "    Effectively, the decoder learns to generate `targets[t+1...]`\n",
    "    given `targets[...t]`, conditioned on the input sequence.\n",
    "- In inference mode, when we want to decode unknown input sequences, we:\n",
    "    - Encode the input sequence into state vectors\n",
    "    - Start with a target sequence of size 1\n",
    "        (just the start-of-sequence character)\n",
    "    - Feed the state vectors and 1-char target sequence\n",
    "        to the decoder to produce predictions for the next character\n",
    "    - Sample the next character using these predictions\n",
    "        (we simply use argmax).\n",
    "    - Append the sampled character to the target sequence\n",
    "    - Repeat until we generate the end-of-sequence character or we\n",
    "        hit the character limit.\n"
   ]
  },
  {
   "cell_type": "markdown",
   "metadata": {
    "id": "97mU7II4-UDo"
   },
   "source": [
    "## Setup\n"
   ]
  },
  {
   "cell_type": "code",
   "execution_count": 1,
   "metadata": {
    "id": "eiLvbLqg-UDr"
   },
   "outputs": [],
   "source": [
    "import numpy as np\n",
    "import tensorflow as tf\n",
    "from tensorflow import keras\n"
   ]
  },
  {
   "cell_type": "markdown",
   "metadata": {
    "id": "rx-V873m-UDu"
   },
   "source": [
    "## Download the data\n"
   ]
  },
  {
   "cell_type": "code",
   "execution_count": 2,
   "metadata": {
    "colab": {
     "base_uri": "https://localhost:8080/"
    },
    "id": "4-jVgNJA-UDx",
    "outputId": "5d295036-18e5-4be5-e200-fcb02e219772"
   },
   "outputs": [
    {
     "data": {
      "text/plain": [
       "['Archive:  fra-eng.zip',\n",
       " '  inflating: _about.txt              ',\n",
       " '  inflating: fra.txt                 ']"
      ]
     },
     "execution_count": 2,
     "metadata": {},
     "output_type": "execute_result"
    }
   ],
   "source": [
    "!!curl -O http://www.manythings.org/anki/fra-eng.zip\n",
    "!!unzip fra-eng.zip\n"
   ]
  },
  {
   "cell_type": "markdown",
   "metadata": {
    "id": "eF1zvelg-UD2"
   },
   "source": [
    "## Configuration\n"
   ]
  },
  {
   "cell_type": "code",
   "execution_count": 3,
   "metadata": {
    "id": "tvJxSktv-UD3"
   },
   "outputs": [],
   "source": [
    "batch_size = 64  # Batch size for training.\n",
    "epochs = 100  # Number of epochs to train for.\n",
    "latent_dim = 256  # Latent dimensionality of the encoding space.\n",
    "num_samples = 10000  # Number of samples to train on.\n",
    "# Path to the data txt file on disk.\n",
    "data_path = \"fra.txt\"\n"
   ]
  },
  {
   "cell_type": "markdown",
   "metadata": {
    "id": "RDFjGVo7-UD4"
   },
   "source": [
    "## Prepare the data\n"
   ]
  },
  {
   "cell_type": "code",
   "execution_count": 4,
   "metadata": {
    "colab": {
     "base_uri": "https://localhost:8080/"
    },
    "id": "ROgVLhw--UD4",
    "outputId": "0b2cc267-c6cc-48c2-ded3-2f896ac1de8f"
   },
   "outputs": [
    {
     "name": "stdout",
     "output_type": "stream",
     "text": [
      "Number of samples: 10000\n",
      "Number of unique input tokens: 71\n",
      "Number of unique output tokens: 93\n",
      "Max sequence length for inputs: 15\n",
      "Max sequence length for outputs: 59\n"
     ]
    }
   ],
   "source": [
    "# Vectorize the data.\n",
    "input_texts = []\n",
    "target_texts = []\n",
    "input_characters = set()\n",
    "target_characters = set()\n",
    "with open(data_path, \"r\", encoding=\"utf-8\") as f:\n",
    "    lines = f.read().split(\"\\n\")\n",
    "for line in lines[: min(num_samples, len(lines) - 1)]:\n",
    "    input_text, target_text, _ = line.split(\"\\t\")\n",
    "    # We use \"tab\" as the \"start sequence\" character\n",
    "    # for the targets, and \"\\n\" as \"end sequence\" character.\n",
    "    target_text = \"\\t\" + target_text + \"\\n\"\n",
    "    input_texts.append(input_text)\n",
    "    target_texts.append(target_text)\n",
    "    for char in input_text:\n",
    "        if char not in input_characters:\n",
    "            input_characters.add(char)\n",
    "    for char in target_text:\n",
    "        if char not in target_characters:\n",
    "            target_characters.add(char)\n",
    "\n",
    "input_characters = sorted(list(input_characters))\n",
    "target_characters = sorted(list(target_characters))\n",
    "num_encoder_tokens = len(input_characters)\n",
    "num_decoder_tokens = len(target_characters)\n",
    "max_encoder_seq_length = max([len(txt) for txt in input_texts])\n",
    "max_decoder_seq_length = max([len(txt) for txt in target_texts])\n",
    "\n",
    "print(\"Number of samples:\", len(input_texts))\n",
    "print(\"Number of unique input tokens:\", num_encoder_tokens)\n",
    "print(\"Number of unique output tokens:\", num_decoder_tokens)\n",
    "print(\"Max sequence length for inputs:\", max_encoder_seq_length)\n",
    "print(\"Max sequence length for outputs:\", max_decoder_seq_length)\n",
    "\n",
    "input_token_index = dict([(char, i) for i, char in enumerate(input_characters)])\n",
    "target_token_index = dict([(char, i) for i, char in enumerate(target_characters)])\n",
    "\n",
    "encoder_input_data = np.zeros(\n",
    "    (len(input_texts), max_encoder_seq_length, num_encoder_tokens), dtype=\"float32\"\n",
    ")\n",
    "decoder_input_data = np.zeros(\n",
    "    (len(input_texts), max_decoder_seq_length, num_decoder_tokens), dtype=\"float32\"\n",
    ")\n",
    "decoder_target_data = np.zeros(\n",
    "    (len(input_texts), max_decoder_seq_length, num_decoder_tokens), dtype=\"float32\"\n",
    ")\n",
    "\n",
    "for i, (input_text, target_text) in enumerate(zip(input_texts, target_texts)):\n",
    "    for t, char in enumerate(input_text):\n",
    "        encoder_input_data[i, t, input_token_index[char]] = 1.0\n",
    "    encoder_input_data[i, t + 1 :, input_token_index[\" \"]] = 1.0\n",
    "    for t, char in enumerate(target_text):\n",
    "        # decoder_target_data is ahead of decoder_input_data by one timestep\n",
    "        decoder_input_data[i, t, target_token_index[char]] = 1.0\n",
    "        if t > 0:\n",
    "            # decoder_target_data will be ahead by one timestep\n",
    "            # and will not include the start character.\n",
    "            decoder_target_data[i, t - 1, target_token_index[char]] = 1.0\n",
    "    decoder_input_data[i, t + 1 :, target_token_index[\" \"]] = 1.0\n",
    "    decoder_target_data[i, t:, target_token_index[\" \"]] = 1.0\n"
   ]
  },
  {
   "cell_type": "markdown",
   "metadata": {
    "id": "X8pZzMj3-UD6"
   },
   "source": [
    "## Build the model\n"
   ]
  },
  {
   "cell_type": "code",
   "execution_count": 5,
   "metadata": {
    "id": "_st8XNPP-UEA"
   },
   "outputs": [],
   "source": [
    "# Define an input sequence and process it.\n",
    "encoder_inputs = keras.Input(shape=(None, num_encoder_tokens))\n",
    "encoder = keras.layers.LSTM(latent_dim, return_state=True)\n",
    "encoder_outputs, state_h, state_c = encoder(encoder_inputs)\n",
    "\n",
    "# We discard `encoder_outputs` and only keep the states.\n",
    "encoder_states = [state_h, state_c]\n",
    "\n",
    "# Set up the decoder, using `encoder_states` as initial state.\n",
    "decoder_inputs = keras.Input(shape=(None, num_decoder_tokens))\n",
    "\n",
    "# We set up our decoder to return full output sequences,\n",
    "# and to return internal states as well. We don't use the\n",
    "# return states in the training model, but we will use them in inference.\n",
    "decoder_lstm = keras.layers.LSTM(latent_dim, return_sequences=True, return_state=True)\n",
    "decoder_outputs, _, _ = decoder_lstm(decoder_inputs, initial_state=encoder_states)\n",
    "decoder_dense = keras.layers.Dense(num_decoder_tokens, activation=\"softmax\")\n",
    "decoder_outputs = decoder_dense(decoder_outputs)\n",
    "\n",
    "# Define the model that will turn\n",
    "# `encoder_input_data` & `decoder_input_data` into `decoder_target_data`\n",
    "model = keras.Model([encoder_inputs, decoder_inputs], decoder_outputs)\n"
   ]
  },
  {
   "cell_type": "markdown",
   "metadata": {
    "id": "ckjmIvdo-UEC"
   },
   "source": [
    "## Train the model\n"
   ]
  },
  {
   "cell_type": "code",
   "execution_count": 6,
   "metadata": {
    "colab": {
     "base_uri": "https://localhost:8080/"
    },
    "id": "CcxqdtjY-UEC",
    "outputId": "023098a2-3d17-4f59-aea6-b814bda0f012"
   },
   "outputs": [
    {
     "name": "stdout",
     "output_type": "stream",
     "text": [
      "Epoch 1/100\n",
      "125/125 [==============================] - 35s 283ms/step - loss: 1.1588 - accuracy: 0.7334 - val_loss: 1.1409 - val_accuracy: 0.7293\n",
      "Epoch 2/100\n",
      "125/125 [==============================] - 45s 360ms/step - loss: 0.8334 - accuracy: 0.7757 - val_loss: 0.8356 - val_accuracy: 0.7611\n",
      "Epoch 3/100\n",
      "125/125 [==============================] - 39s 315ms/step - loss: 0.6777 - accuracy: 0.8076 - val_loss: 0.7089 - val_accuracy: 0.7964\n",
      "Epoch 4/100\n",
      "125/125 [==============================] - 37s 295ms/step - loss: 0.5793 - accuracy: 0.8316 - val_loss: 0.6380 - val_accuracy: 0.8165\n",
      "Epoch 5/100\n",
      "125/125 [==============================] - 56s 446ms/step - loss: 0.5308 - accuracy: 0.8448 - val_loss: 0.6032 - val_accuracy: 0.8233\n",
      "Epoch 6/100\n",
      "125/125 [==============================] - 42s 334ms/step - loss: 0.4950 - accuracy: 0.8545 - val_loss: 0.5742 - val_accuracy: 0.8322\n",
      "Epoch 7/100\n",
      "125/125 [==============================] - 40s 319ms/step - loss: 0.4664 - accuracy: 0.8618 - val_loss: 0.5538 - val_accuracy: 0.8395\n",
      "Epoch 8/100\n",
      "125/125 [==============================] - 42s 335ms/step - loss: 0.4433 - accuracy: 0.8683 - val_loss: 0.5267 - val_accuracy: 0.8451\n",
      "Epoch 9/100\n",
      "125/125 [==============================] - 43s 342ms/step - loss: 0.4227 - accuracy: 0.8738 - val_loss: 0.5092 - val_accuracy: 0.8507\n",
      "Epoch 10/100\n",
      "125/125 [==============================] - 40s 322ms/step - loss: 0.4041 - accuracy: 0.8791 - val_loss: 0.4990 - val_accuracy: 0.8528\n",
      "Epoch 11/100\n",
      "125/125 [==============================] - 54s 430ms/step - loss: 0.3872 - accuracy: 0.8839 - val_loss: 0.4869 - val_accuracy: 0.8573\n",
      "Epoch 12/100\n",
      "125/125 [==============================] - 46s 368ms/step - loss: 0.3715 - accuracy: 0.8885 - val_loss: 0.4776 - val_accuracy: 0.8598\n",
      "Epoch 13/100\n",
      "125/125 [==============================] - 43s 343ms/step - loss: 0.3567 - accuracy: 0.8927 - val_loss: 0.4737 - val_accuracy: 0.8611\n",
      "Epoch 14/100\n",
      "125/125 [==============================] - 48s 383ms/step - loss: 0.3434 - accuracy: 0.8963 - val_loss: 0.4666 - val_accuracy: 0.8632\n",
      "Epoch 15/100\n",
      "125/125 [==============================] - 65s 516ms/step - loss: 0.3305 - accuracy: 0.9005 - val_loss: 0.4585 - val_accuracy: 0.8659\n",
      "Epoch 16/100\n",
      "125/125 [==============================] - 86s 684ms/step - loss: 0.3179 - accuracy: 0.9042 - val_loss: 0.4563 - val_accuracy: 0.8671\n",
      "Epoch 17/100\n",
      "125/125 [==============================] - 74s 593ms/step - loss: 0.3066 - accuracy: 0.9075 - val_loss: 0.4541 - val_accuracy: 0.8684\n",
      "Epoch 18/100\n",
      "125/125 [==============================] - 48s 385ms/step - loss: 0.2953 - accuracy: 0.9106 - val_loss: 0.4489 - val_accuracy: 0.8702\n",
      "Epoch 19/100\n",
      "125/125 [==============================] - 46s 365ms/step - loss: 0.2852 - accuracy: 0.9137 - val_loss: 0.4493 - val_accuracy: 0.8703\n",
      "Epoch 20/100\n",
      "125/125 [==============================] - 46s 368ms/step - loss: 0.2747 - accuracy: 0.9170 - val_loss: 0.4501 - val_accuracy: 0.8709\n",
      "Epoch 21/100\n",
      "125/125 [==============================] - 45s 363ms/step - loss: 0.2654 - accuracy: 0.9196 - val_loss: 0.4454 - val_accuracy: 0.8728\n",
      "Epoch 22/100\n",
      "125/125 [==============================] - 43s 348ms/step - loss: 0.2561 - accuracy: 0.9223 - val_loss: 0.4504 - val_accuracy: 0.8729\n",
      "Epoch 23/100\n",
      "125/125 [==============================] - 46s 369ms/step - loss: 0.2479 - accuracy: 0.9248 - val_loss: 0.4500 - val_accuracy: 0.8726\n",
      "Epoch 24/100\n",
      "125/125 [==============================] - 45s 357ms/step - loss: 0.2390 - accuracy: 0.9274 - val_loss: 0.4484 - val_accuracy: 0.8734\n",
      "Epoch 25/100\n",
      "125/125 [==============================] - 43s 343ms/step - loss: 0.2313 - accuracy: 0.9297 - val_loss: 0.4496 - val_accuracy: 0.8737\n",
      "Epoch 26/100\n",
      "125/125 [==============================] - 51s 405ms/step - loss: 0.2238 - accuracy: 0.9321 - val_loss: 0.4553 - val_accuracy: 0.8738\n",
      "Epoch 27/100\n",
      "125/125 [==============================] - 44s 353ms/step - loss: 0.2169 - accuracy: 0.9341 - val_loss: 0.4580 - val_accuracy: 0.8745\n",
      "Epoch 28/100\n",
      "125/125 [==============================] - 43s 347ms/step - loss: 0.2099 - accuracy: 0.9362 - val_loss: 0.4607 - val_accuracy: 0.8732\n",
      "Epoch 29/100\n",
      "125/125 [==============================] - 42s 333ms/step - loss: 0.2033 - accuracy: 0.9382 - val_loss: 0.4641 - val_accuracy: 0.8743\n",
      "Epoch 30/100\n",
      "125/125 [==============================] - 41s 332ms/step - loss: 0.1971 - accuracy: 0.9398 - val_loss: 0.4655 - val_accuracy: 0.8750\n",
      "Epoch 31/100\n",
      "125/125 [==============================] - 42s 334ms/step - loss: 0.1911 - accuracy: 0.9419 - val_loss: 0.4620 - val_accuracy: 0.8757\n",
      "Epoch 32/100\n",
      "125/125 [==============================] - 42s 334ms/step - loss: 0.1848 - accuracy: 0.9437 - val_loss: 0.4691 - val_accuracy: 0.8757\n",
      "Epoch 33/100\n",
      "125/125 [==============================] - 42s 337ms/step - loss: 0.1794 - accuracy: 0.9452 - val_loss: 0.4793 - val_accuracy: 0.8737\n",
      "Epoch 34/100\n",
      "125/125 [==============================] - 41s 331ms/step - loss: 0.1743 - accuracy: 0.9468 - val_loss: 0.4793 - val_accuracy: 0.8747\n",
      "Epoch 35/100\n",
      "125/125 [==============================] - 41s 329ms/step - loss: 0.1695 - accuracy: 0.9481 - val_loss: 0.4867 - val_accuracy: 0.8736\n",
      "Epoch 36/100\n",
      "125/125 [==============================] - 42s 335ms/step - loss: 0.1645 - accuracy: 0.9496 - val_loss: 0.4856 - val_accuracy: 0.8749\n",
      "Epoch 37/100\n",
      "125/125 [==============================] - 50s 399ms/step - loss: 0.1597 - accuracy: 0.9513 - val_loss: 0.4910 - val_accuracy: 0.8741\n",
      "Epoch 38/100\n",
      "125/125 [==============================] - 42s 338ms/step - loss: 0.1554 - accuracy: 0.9523 - val_loss: 0.4902 - val_accuracy: 0.8753\n",
      "Epoch 39/100\n",
      "125/125 [==============================] - 45s 357ms/step - loss: 0.1509 - accuracy: 0.9538 - val_loss: 0.5028 - val_accuracy: 0.8733\n",
      "Epoch 40/100\n",
      "125/125 [==============================] - 54s 430ms/step - loss: 0.1469 - accuracy: 0.9548 - val_loss: 0.5037 - val_accuracy: 0.8739\n",
      "Epoch 41/100\n",
      "125/125 [==============================] - 42s 339ms/step - loss: 0.1434 - accuracy: 0.9558 - val_loss: 0.5084 - val_accuracy: 0.8744\n",
      "Epoch 42/100\n",
      "125/125 [==============================] - 42s 337ms/step - loss: 0.1393 - accuracy: 0.9572 - val_loss: 0.5148 - val_accuracy: 0.8738\n",
      "Epoch 43/100\n",
      "125/125 [==============================] - 41s 332ms/step - loss: 0.1360 - accuracy: 0.9582 - val_loss: 0.5185 - val_accuracy: 0.8740\n",
      "Epoch 44/100\n",
      "125/125 [==============================] - 42s 339ms/step - loss: 0.1322 - accuracy: 0.9591 - val_loss: 0.5239 - val_accuracy: 0.8738\n",
      "Epoch 45/100\n",
      "125/125 [==============================] - 42s 336ms/step - loss: 0.1289 - accuracy: 0.9600 - val_loss: 0.5257 - val_accuracy: 0.8743\n",
      "Epoch 46/100\n",
      "125/125 [==============================] - 41s 331ms/step - loss: 0.1259 - accuracy: 0.9610 - val_loss: 0.5369 - val_accuracy: 0.8734\n",
      "Epoch 47/100\n",
      "125/125 [==============================] - 42s 337ms/step - loss: 0.1230 - accuracy: 0.9618 - val_loss: 0.5373 - val_accuracy: 0.8735\n",
      "Epoch 48/100\n",
      "125/125 [==============================] - 42s 332ms/step - loss: 0.1201 - accuracy: 0.9627 - val_loss: 0.5393 - val_accuracy: 0.8741\n",
      "Epoch 49/100\n",
      "125/125 [==============================] - 41s 331ms/step - loss: 0.1170 - accuracy: 0.9634 - val_loss: 0.5426 - val_accuracy: 0.8749\n",
      "Epoch 50/100\n",
      "125/125 [==============================] - 43s 343ms/step - loss: 0.1144 - accuracy: 0.9642 - val_loss: 0.5494 - val_accuracy: 0.8734\n",
      "Epoch 51/100\n",
      "125/125 [==============================] - 42s 335ms/step - loss: 0.1115 - accuracy: 0.9650 - val_loss: 0.5548 - val_accuracy: 0.8734\n",
      "Epoch 52/100\n",
      "125/125 [==============================] - 47s 377ms/step - loss: 0.1089 - accuracy: 0.9658 - val_loss: 0.5588 - val_accuracy: 0.8737\n",
      "Epoch 53/100\n",
      "125/125 [==============================] - 45s 361ms/step - loss: 0.1067 - accuracy: 0.9664 - val_loss: 0.5615 - val_accuracy: 0.8730\n",
      "Epoch 54/100\n",
      "125/125 [==============================] - 49s 390ms/step - loss: 0.1041 - accuracy: 0.9674 - val_loss: 0.5677 - val_accuracy: 0.8737\n",
      "Epoch 55/100\n",
      "125/125 [==============================] - 45s 361ms/step - loss: 0.1021 - accuracy: 0.9676 - val_loss: 0.5759 - val_accuracy: 0.8732\n",
      "Epoch 56/100\n",
      "125/125 [==============================] - 43s 343ms/step - loss: 0.0998 - accuracy: 0.9685 - val_loss: 0.5797 - val_accuracy: 0.8726\n"
     ]
    },
    {
     "name": "stdout",
     "output_type": "stream",
     "text": [
      "Epoch 57/100\n",
      "125/125 [==============================] - 42s 333ms/step - loss: 0.0976 - accuracy: 0.9692 - val_loss: 0.5817 - val_accuracy: 0.8729\n",
      "Epoch 58/100\n",
      "125/125 [==============================] - 42s 338ms/step - loss: 0.0954 - accuracy: 0.9699 - val_loss: 0.5849 - val_accuracy: 0.8734\n",
      "Epoch 59/100\n",
      "125/125 [==============================] - 51s 406ms/step - loss: 0.0936 - accuracy: 0.9703 - val_loss: 0.5869 - val_accuracy: 0.8732\n",
      "Epoch 60/100\n",
      "125/125 [==============================] - 43s 341ms/step - loss: 0.0920 - accuracy: 0.9707 - val_loss: 0.5954 - val_accuracy: 0.8728\n",
      "Epoch 61/100\n",
      "125/125 [==============================] - 42s 338ms/step - loss: 0.0900 - accuracy: 0.9712 - val_loss: 0.5947 - val_accuracy: 0.8734\n",
      "Epoch 62/100\n",
      "125/125 [==============================] - 42s 335ms/step - loss: 0.0877 - accuracy: 0.9719 - val_loss: 0.6044 - val_accuracy: 0.8722\n",
      "Epoch 63/100\n",
      "125/125 [==============================] - 42s 335ms/step - loss: 0.0860 - accuracy: 0.9724 - val_loss: 0.6111 - val_accuracy: 0.8726\n",
      "Epoch 64/100\n",
      "125/125 [==============================] - 41s 330ms/step - loss: 0.0847 - accuracy: 0.9728 - val_loss: 0.6135 - val_accuracy: 0.8714\n",
      "Epoch 65/100\n",
      "125/125 [==============================] - 42s 334ms/step - loss: 0.0829 - accuracy: 0.9733 - val_loss: 0.6246 - val_accuracy: 0.8716\n",
      "Epoch 66/100\n",
      "125/125 [==============================] - 42s 338ms/step - loss: 0.0815 - accuracy: 0.9739 - val_loss: 0.6258 - val_accuracy: 0.8719\n",
      "Epoch 67/100\n",
      "125/125 [==============================] - 42s 337ms/step - loss: 0.0802 - accuracy: 0.9741 - val_loss: 0.6222 - val_accuracy: 0.8727\n",
      "Epoch 68/100\n",
      "125/125 [==============================] - 49s 394ms/step - loss: 0.0783 - accuracy: 0.9746 - val_loss: 0.6339 - val_accuracy: 0.8719\n",
      "Epoch 69/100\n",
      "125/125 [==============================] - 42s 336ms/step - loss: 0.0770 - accuracy: 0.9749 - val_loss: 0.6309 - val_accuracy: 0.8719\n",
      "Epoch 70/100\n",
      "125/125 [==============================] - 42s 336ms/step - loss: 0.0757 - accuracy: 0.9752 - val_loss: 0.6320 - val_accuracy: 0.8723\n",
      "Epoch 71/100\n",
      "125/125 [==============================] - 41s 329ms/step - loss: 0.0744 - accuracy: 0.9755 - val_loss: 0.6428 - val_accuracy: 0.8712\n",
      "Epoch 72/100\n",
      "125/125 [==============================] - 42s 340ms/step - loss: 0.0734 - accuracy: 0.9759 - val_loss: 0.6456 - val_accuracy: 0.8719\n",
      "Epoch 73/100\n",
      "125/125 [==============================] - 42s 334ms/step - loss: 0.0718 - accuracy: 0.9763 - val_loss: 0.6509 - val_accuracy: 0.8710\n",
      "Epoch 74/100\n",
      "125/125 [==============================] - 41s 328ms/step - loss: 0.0707 - accuracy: 0.9764 - val_loss: 0.6645 - val_accuracy: 0.8680\n",
      "Epoch 75/100\n",
      "125/125 [==============================] - 42s 334ms/step - loss: 0.0682 - accuracy: 0.9775 - val_loss: 0.6591 - val_accuracy: 0.8714\n",
      "Epoch 76/100\n",
      "125/125 [==============================] - 41s 331ms/step - loss: 0.0684 - accuracy: 0.9773 - val_loss: 0.6613 - val_accuracy: 0.8714\n",
      "Epoch 77/100\n",
      "125/125 [==============================] - 42s 333ms/step - loss: 0.0670 - accuracy: 0.9776 - val_loss: 0.6535 - val_accuracy: 0.8719\n",
      "Epoch 78/100\n",
      "125/125 [==============================] - 41s 332ms/step - loss: 0.0660 - accuracy: 0.9780 - val_loss: 0.6651 - val_accuracy: 0.8716\n",
      "Epoch 79/100\n",
      "125/125 [==============================] - 41s 330ms/step - loss: 0.0651 - accuracy: 0.9782 - val_loss: 0.6643 - val_accuracy: 0.8719\n",
      "Epoch 80/100\n",
      "125/125 [==============================] - 41s 331ms/step - loss: 0.0635 - accuracy: 0.9785 - val_loss: 0.6748 - val_accuracy: 0.8715\n",
      "Epoch 81/100\n",
      "125/125 [==============================] - 61s 484ms/step - loss: 0.0626 - accuracy: 0.9790 - val_loss: 0.6820 - val_accuracy: 0.8706\n",
      "Epoch 82/100\n",
      "125/125 [==============================] - 53s 425ms/step - loss: 0.0619 - accuracy: 0.9792 - val_loss: 0.6800 - val_accuracy: 0.8709\n",
      "Epoch 83/100\n",
      "125/125 [==============================] - 42s 336ms/step - loss: 0.0609 - accuracy: 0.9794 - val_loss: 0.6818 - val_accuracy: 0.8715\n",
      "Epoch 84/100\n",
      "125/125 [==============================] - 43s 347ms/step - loss: 0.0598 - accuracy: 0.9798 - val_loss: 0.6890 - val_accuracy: 0.8710\n",
      "Epoch 85/100\n",
      "125/125 [==============================] - 43s 344ms/step - loss: 0.0593 - accuracy: 0.9798 - val_loss: 0.6909 - val_accuracy: 0.8694\n",
      "Epoch 86/100\n",
      "125/125 [==============================] - 41s 332ms/step - loss: 0.0582 - accuracy: 0.9801 - val_loss: 0.6957 - val_accuracy: 0.8709\n",
      "Epoch 87/100\n",
      "125/125 [==============================] - 42s 334ms/step - loss: 0.0575 - accuracy: 0.9802 - val_loss: 0.7018 - val_accuracy: 0.8706\n",
      "Epoch 88/100\n",
      "125/125 [==============================] - 44s 350ms/step - loss: 0.0563 - accuracy: 0.9808 - val_loss: 0.7034 - val_accuracy: 0.8705\n",
      "Epoch 89/100\n",
      "125/125 [==============================] - 42s 334ms/step - loss: 0.0555 - accuracy: 0.9809 - val_loss: 0.7087 - val_accuracy: 0.8693\n",
      "Epoch 90/100\n",
      "125/125 [==============================] - 42s 338ms/step - loss: 0.0546 - accuracy: 0.9811 - val_loss: 0.7183 - val_accuracy: 0.8708\n",
      "Epoch 91/100\n",
      "125/125 [==============================] - 56s 445ms/step - loss: 0.0541 - accuracy: 0.9813 - val_loss: 0.7098 - val_accuracy: 0.8711\n",
      "Epoch 92/100\n",
      "125/125 [==============================] - 48s 384ms/step - loss: 0.0533 - accuracy: 0.9815 - val_loss: 0.7146 - val_accuracy: 0.8703\n",
      "Epoch 93/100\n",
      "125/125 [==============================] - 43s 347ms/step - loss: 0.0525 - accuracy: 0.9818 - val_loss: 0.7219 - val_accuracy: 0.8704\n",
      "Epoch 94/100\n",
      "125/125 [==============================] - 44s 349ms/step - loss: 0.0517 - accuracy: 0.9822 - val_loss: 0.7242 - val_accuracy: 0.8702\n",
      "Epoch 95/100\n",
      "125/125 [==============================] - 63s 506ms/step - loss: 0.0509 - accuracy: 0.9824 - val_loss: 0.7260 - val_accuracy: 0.8700\n",
      "Epoch 96/100\n",
      "125/125 [==============================] - 64s 515ms/step - loss: 0.0503 - accuracy: 0.9825 - val_loss: 0.7256 - val_accuracy: 0.8695\n",
      "Epoch 97/100\n",
      "125/125 [==============================] - 65s 524ms/step - loss: 0.0498 - accuracy: 0.9825 - val_loss: 0.7294 - val_accuracy: 0.8698\n",
      "Epoch 98/100\n",
      "125/125 [==============================] - 64s 509ms/step - loss: 0.0492 - accuracy: 0.9826 - val_loss: 0.7333 - val_accuracy: 0.8705\n",
      "Epoch 99/100\n",
      "125/125 [==============================] - 65s 521ms/step - loss: 0.0484 - accuracy: 0.9828 - val_loss: 0.7358 - val_accuracy: 0.8699\n",
      "Epoch 100/100\n",
      "125/125 [==============================] - 69s 549ms/step - loss: 0.0478 - accuracy: 0.9832 - val_loss: 0.7450 - val_accuracy: 0.8697\n",
      "WARNING:tensorflow:From /home/roberto/anaconda3/lib/python3.7/site-packages/tensorflow/python/training/tracking/tracking.py:111: Model.state_updates (from tensorflow.python.keras.engine.training) is deprecated and will be removed in a future version.\n",
      "Instructions for updating:\n",
      "This property should not be used in TensorFlow 2.0, as updates are applied automatically.\n",
      "WARNING:tensorflow:From /home/roberto/anaconda3/lib/python3.7/site-packages/tensorflow/python/training/tracking/tracking.py:111: Layer.updates (from tensorflow.python.keras.engine.base_layer) is deprecated and will be removed in a future version.\n",
      "Instructions for updating:\n",
      "This property should not be used in TensorFlow 2.0, as updates are applied automatically.\n",
      "INFO:tensorflow:Assets written to: s2s/assets\n"
     ]
    }
   ],
   "source": [
    "model.compile(\n",
    "    optimizer=\"rmsprop\", loss=\"categorical_crossentropy\", metrics=[\"accuracy\"]\n",
    ")\n",
    "model.fit(\n",
    "    [encoder_input_data, decoder_input_data],\n",
    "    decoder_target_data,\n",
    "    batch_size=batch_size,\n",
    "    epochs=epochs,\n",
    "    validation_split=0.2,\n",
    ")\n",
    "# Save model\n",
    "model.save(\"s2s\")\n"
   ]
  },
  {
   "cell_type": "markdown",
   "metadata": {
    "id": "dj4gt6FW-UED"
   },
   "source": [
    "## Run inference (sampling)\n",
    "\n",
    "1. encode input and retrieve initial decoder state\n",
    "2. run one step of decoder with this initial state\n",
    "and a \"start of sequence\" token as target.\n",
    "Output will be the next target token.\n",
    "3. Repeat with the current target token and current states\n"
   ]
  },
  {
   "cell_type": "code",
   "execution_count": 7,
   "metadata": {
    "colab": {
     "base_uri": "https://localhost:8080/",
     "height": 237
    },
    "id": "GfwNkINo-UEE",
    "outputId": "65ec02fc-4366-4248-c2c4-e05a1b5ed991"
   },
   "outputs": [],
   "source": [
    "# Define sampling models\n",
    "# Restore the model and construct the encoder and decoder.\n",
    "model = keras.models.load_model(\"s2s\")\n",
    "\n",
    "encoder_inputs = model.input[0]  # input_1\n",
    "encoder_outputs, state_h_enc, state_c_enc = model.layers[2].output  # lstm_1\n",
    "encoder_states = [state_h_enc, state_c_enc]\n",
    "encoder_model = keras.Model(encoder_inputs, encoder_states)\n",
    "\n",
    "decoder_inputs = model.input[1]  # input_2\n",
    "decoder_state_input_h = keras.Input(shape=(latent_dim,), name=\"input_3\")\n",
    "decoder_state_input_c = keras.Input(shape=(latent_dim,), name=\"input_4\")\n",
    "decoder_states_inputs = [decoder_state_input_h, decoder_state_input_c]\n",
    "decoder_lstm = model.layers[3]\n",
    "decoder_outputs, state_h_dec, state_c_dec = decoder_lstm(\n",
    "    decoder_inputs, initial_state=decoder_states_inputs\n",
    ")\n",
    "decoder_states = [state_h_dec, state_c_dec]\n",
    "decoder_dense = model.layers[4]\n",
    "decoder_outputs = decoder_dense(decoder_outputs)\n",
    "decoder_model = keras.Model(\n",
    "    [decoder_inputs] + decoder_states_inputs, [decoder_outputs] + decoder_states\n",
    ")\n",
    "\n",
    "# Reverse-lookup token index to decode sequences back to\n",
    "# something readable.\n",
    "reverse_input_char_index = dict((i, char) for char, i in input_token_index.items())\n",
    "reverse_target_char_index = dict((i, char) for char, i in target_token_index.items())\n",
    "\n",
    "\n",
    "def decode_sequence(input_seq):\n",
    "    # Encode the input as state vectors.\n",
    "    states_value = encoder_model.predict(input_seq)\n",
    "\n",
    "    # Generate empty target sequence of length 1.\n",
    "    target_seq = np.zeros((1, 1, num_decoder_tokens))\n",
    "    # Populate the first character of target sequence with the start character.\n",
    "    target_seq[0, 0, target_token_index[\"\\t\"]] = 1.0\n",
    "\n",
    "    # Sampling loop for a batch of sequences\n",
    "    # (to simplify, here we assume a batch of size 1).\n",
    "    stop_condition = False\n",
    "    decoded_sentence = \"\"\n",
    "    while not stop_condition:\n",
    "        output_tokens, h, c = decoder_model.predict([target_seq] + states_value)\n",
    "\n",
    "        # Sample a token\n",
    "        sampled_token_index = np.argmax(output_tokens[0, -1, :])\n",
    "        sampled_char = reverse_target_char_index[sampled_token_index]\n",
    "        decoded_sentence += sampled_char\n",
    "\n",
    "        # Exit condition: either hit max length\n",
    "        # or find stop character.\n",
    "        if sampled_char == \"\\n\" or len(decoded_sentence) > max_decoder_seq_length:\n",
    "            stop_condition = True\n",
    "\n",
    "        # Update the target sequence (of length 1).\n",
    "        target_seq = np.zeros((1, 1, num_decoder_tokens))\n",
    "        target_seq[0, 0, sampled_token_index] = 1.0\n",
    "\n",
    "        # Update states\n",
    "        states_value = [h, c]\n",
    "    return decoded_sentence\n",
    "\n"
   ]
  },
  {
   "cell_type": "code",
   "execution_count": 10,
   "metadata": {},
   "outputs": [
    {
     "data": {
      "text/plain": [
       "(10000, 15, 71)"
      ]
     },
     "execution_count": 10,
     "metadata": {},
     "output_type": "execute_result"
    }
   ],
   "source": [
    "encoder_input_data.shape"
   ]
  },
  {
   "cell_type": "markdown",
   "metadata": {
    "id": "rRPUylxl-UEE"
   },
   "source": [
    "You can now generate decoded sentences as such:\n"
   ]
  },
  {
   "cell_type": "code",
   "execution_count": 8,
   "metadata": {
    "id": "2hjQIMHb-UEF"
   },
   "outputs": [
    {
     "name": "stdout",
     "output_type": "stream",
     "text": [
      "-\n",
      "Input sentence: Go.\n",
      "Decoded sentence: Va !\n",
      "\n",
      "-\n",
      "Input sentence: Go.\n",
      "Decoded sentence: Va !\n",
      "\n",
      "-\n",
      "Input sentence: Go.\n",
      "Decoded sentence: Va !\n",
      "\n",
      "-\n",
      "Input sentence: Hi.\n",
      "Decoded sentence: Salut !\n",
      "\n",
      "-\n",
      "Input sentence: Hi.\n",
      "Decoded sentence: Salut !\n",
      "\n",
      "-\n",
      "Input sentence: Run!\n",
      "Decoded sentence: File !\n",
      "\n",
      "-\n",
      "Input sentence: Run!\n",
      "Decoded sentence: File !\n",
      "\n",
      "-\n",
      "Input sentence: Run!\n",
      "Decoded sentence: File !\n",
      "\n",
      "-\n",
      "Input sentence: Run!\n",
      "Decoded sentence: File !\n",
      "\n",
      "-\n",
      "Input sentence: Run!\n",
      "Decoded sentence: File !\n",
      "\n",
      "-\n",
      "Input sentence: Run!\n",
      "Decoded sentence: File !\n",
      "\n",
      "-\n",
      "Input sentence: Run!\n",
      "Decoded sentence: File !\n",
      "\n",
      "-\n",
      "Input sentence: Run!\n",
      "Decoded sentence: File !\n",
      "\n",
      "-\n",
      "Input sentence: Run.\n",
      "Decoded sentence: File !\n",
      "\n",
      "-\n",
      "Input sentence: Run.\n",
      "Decoded sentence: File !\n",
      "\n",
      "-\n",
      "Input sentence: Run.\n",
      "Decoded sentence: File !\n",
      "\n",
      "-\n",
      "Input sentence: Run.\n",
      "Decoded sentence: File !\n",
      "\n",
      "-\n",
      "Input sentence: Run.\n",
      "Decoded sentence: File !\n",
      "\n",
      "-\n",
      "Input sentence: Run.\n",
      "Decoded sentence: File !\n",
      "\n",
      "-\n",
      "Input sentence: Run.\n",
      "Decoded sentence: File !\n",
      "\n"
     ]
    }
   ],
   "source": [
    "for seq_index in range(20):\n",
    "    # Take one sequence (part of the training set)\n",
    "    # for trying out decoding.\n",
    "    input_seq = encoder_input_data[seq_index : seq_index + 1]\n",
    "    decoded_sentence = decode_sequence(input_seq)\n",
    "    print(\"-\")\n",
    "    print(\"Input sentence:\", input_texts[seq_index])\n",
    "    print(\"Decoded sentence:\", decoded_sentence)\n"
   ]
  }
 ],
 "metadata": {
  "colab": {
   "collapsed_sections": [],
   "name": "lstm_seq2seq",
   "provenance": [],
   "toc_visible": true
  },
  "kernelspec": {
   "display_name": "Python 3",
   "language": "python",
   "name": "python3"
  },
  "language_info": {
   "codemirror_mode": {
    "name": "ipython",
    "version": 3
   },
   "file_extension": ".py",
   "mimetype": "text/x-python",
   "name": "python",
   "nbconvert_exporter": "python",
   "pygments_lexer": "ipython3",
   "version": "3.7.9"
  }
 },
 "nbformat": 4,
 "nbformat_minor": 1
}
