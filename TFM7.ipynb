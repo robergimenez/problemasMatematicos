{
 "cells": [
  {
   "cell_type": "code",
   "execution_count": 1,
   "metadata": {},
   "outputs": [],
   "source": [
    "import os\n",
    "import numpy as np\n",
    "import pandas as pd\n",
    "import nltk\n",
    "import keras\n",
    "import six\n",
    "import matplotlib.pyplot as plt\n",
    "import json\n",
    "from sklearn.model_selection import train_test_split\n",
    "from nltk.corpus import stopwords, wordnet\n",
    "from nltk.stem import WordNetLemmatizer\n",
    "from nltk.tokenize import word_tokenize, sent_tokenize, RegexpTokenizer\n",
    "from keras.preprocessing.sequence import pad_sequences\n",
    "from keras.models import Model\n",
    "from keras.layers import TimeDistributed,Conv1D,Dense,Embedding,Input,Dropout,LSTM,Bidirectional,AveragePooling1D,Flatten,concatenate\n",
    "from keras.callbacks import EarlyStopping, ModelCheckpoint\n",
    "from keras.optimizers import *"
   ]
  },
  {
   "cell_type": "code",
   "execution_count": 2,
   "metadata": {},
   "outputs": [
    {
     "name": "stderr",
     "output_type": "stream",
     "text": [
      "[nltk_data] Downloading package punkt to /home/roberto/nltk_data...\n",
      "[nltk_data]   Package punkt is already up-to-date!\n",
      "[nltk_data] Downloading package stopwords to\n",
      "[nltk_data]     /home/roberto/nltk_data...\n",
      "[nltk_data]   Package stopwords is already up-to-date!\n",
      "[nltk_data] Downloading package wordnet to /home/roberto/nltk_data...\n",
      "[nltk_data]   Package wordnet is already up-to-date!\n",
      "[nltk_data] Downloading package averaged_perceptron_tagger to\n",
      "[nltk_data]     /home/roberto/nltk_data...\n",
      "[nltk_data]   Package averaged_perceptron_tagger is already up-to-\n",
      "[nltk_data]       date!\n"
     ]
    }
   ],
   "source": [
    "nltk.download('punkt')\n",
    "nltk.download('stopwords')\n",
    "nltk.download('wordnet')\n",
    "nltk.download('averaged_perceptron_tagger')\n",
    "stop_words = set(stopwords.words('spanish'))"
   ]
  },
  {
   "cell_type": "code",
   "execution_count": 3,
   "metadata": {},
   "outputs": [],
   "source": [
    "#Abro el archivo en el que se encuentra el dataset de los problemas\n",
    "with open('singleop.json', 'r') as f:\n",
    "    datastore = json.load(f)"
   ]
  },
  {
   "cell_type": "code",
   "execution_count": 4,
   "metadata": {},
   "outputs": [],
   "source": [
    "# Archivo que contiene un listado de nombres\n",
    "nombres = pd.read_csv('nombres-2015.csv')\n",
    "names = pd.read_csv('yob2019.txt', header=None)    "
   ]
  },
  {
   "cell_type": "code",
   "execution_count": 5,
   "metadata": {},
   "outputs": [],
   "source": [
    "dataset2 = pd.read_csv('problemas_adicionales2.csv')"
   ]
  },
  {
   "cell_type": "code",
   "execution_count": 6,
   "metadata": {},
   "outputs": [],
   "source": [
    "preguntas = []\n",
    "respuestas = []\n",
    "ecuaciones = []\n",
    "alineacion = []\n",
    "\n",
    "for item in datastore:\n",
    "    preguntas.append(item['sQuestion'])\n",
    "    respuestas.append(item['lSolutions'])\n",
    "    ecuaciones.append(item['lEquations'])\n",
    "    alineacion.append(item['lAlignments'])"
   ]
  },
  {
   "cell_type": "code",
   "execution_count": 7,
   "metadata": {},
   "outputs": [
    {
     "name": "stdout",
     "output_type": "stream",
     "text": [
      "Tengo  159  sumas  162  restas,  117  multiplicaciones,  124  divisiones y otras operaciones  0\n"
     ]
    }
   ],
   "source": [
    "# Necesito convertir el dataset en un problema de clasificacion para que la red neuronal pueda identificar\n",
    "# si estoy tratando de resolver un problema de sumas, restas, multiplicaciones o divisiones.\n",
    "# Esto va a crear una lista con el tipo de operacion y que va a ser el resultado a inferir.\n",
    "operaciones = []\n",
    "sumas =0\n",
    "restas =0\n",
    "multiplicaciones =0\n",
    "divisiones = 0\n",
    "otras = 0\n",
    "#Clasifico las operaciones en 0 para sumas, 1 para restas, 2 para multiplicaciones, 3 para divisiones y 4 sino lo encuentro.\n",
    "for operacion in ecuaciones:\n",
    "    if (operacion[0].find('+')>=0):\n",
    "        operaciones.append(0)\n",
    "        sumas = sumas + 1\n",
    "    elif (operacion[0].find('-') >= 0 ):\n",
    "        operaciones.append(1)\n",
    "        restas = restas + 1\n",
    "    elif(operacion[0].find('*') >=0):\n",
    "        operaciones.append(2)\n",
    "        multiplicaciones = multiplicaciones + 1\n",
    "    elif(operacion[0].find('/')):\n",
    "        operaciones.append(3)\n",
    "        divisiones = divisiones + 1\n",
    "    else:\n",
    "        operaciones.append(4)\n",
    "        otras = otras + 1\n",
    "\n",
    "print('Tengo ', sumas, ' sumas ', restas, ' restas, ', multiplicaciones, ' multiplicaciones, ', divisiones, ' divisiones y otras operaciones ', otras)"
   ]
  },
  {
   "cell_type": "code",
   "execution_count": 8,
   "metadata": {},
   "outputs": [],
   "source": [
    "preguntas2 = dataset2['Preguntas'].tolist()\n",
    "respuestas2 = dataset2['respuestas'].tolist()"
   ]
  },
  {
   "cell_type": "code",
   "execution_count": 9,
   "metadata": {},
   "outputs": [],
   "source": [
    "preguntas3 = preguntas + preguntas2\n",
    "respuestas3 = operaciones + respuestas2"
   ]
  },
  {
   "cell_type": "code",
   "execution_count": 10,
   "metadata": {},
   "outputs": [],
   "source": [
    "#El listado de nombres lo voy a truncar a los 15K primeros, dado que el resto son nombres muy residuales.\n",
    "nombres_ = nombres['nombre'][:15000]"
   ]
  },
  {
   "cell_type": "code",
   "execution_count": 11,
   "metadata": {},
   "outputs": [],
   "source": [
    "names_= names[0]"
   ]
  },
  {
   "cell_type": "code",
   "execution_count": 12,
   "metadata": {},
   "outputs": [],
   "source": [
    "nombres_ = nombres_.append(names_)"
   ]
  },
  {
   "cell_type": "code",
   "execution_count": 13,
   "metadata": {},
   "outputs": [],
   "source": [
    "st_words = list(stop_words)"
   ]
  },
  {
   "cell_type": "code",
   "execution_count": 14,
   "metadata": {},
   "outputs": [],
   "source": [
    "nom = nombres['nombre'].values.tolist()"
   ]
  },
  {
   "cell_type": "code",
   "execution_count": 15,
   "metadata": {},
   "outputs": [],
   "source": [
    "nomb =  nom + st_words"
   ]
  },
  {
   "cell_type": "code",
   "execution_count": 16,
   "metadata": {},
   "outputs": [
    {
     "data": {
      "text/plain": [
       "'haya'"
      ]
     },
     "execution_count": 16,
     "metadata": {},
     "output_type": "execute_result"
    }
   ],
   "source": [
    "nomb[-1]"
   ]
  },
  {
   "cell_type": "code",
   "execution_count": 17,
   "metadata": {},
   "outputs": [],
   "source": [
    "# El vector preguntas_sin, consiste en las preguntas a las que voy a eliminar todos los nombres propios que no\n",
    "# anaden ningun valor al conjunto de preguntas. No quiero que esos nombres se procesen y por tanto los elimino.\n",
    "def eliminar_palabras(dataset, stopw):\n",
    "    preguntas_sin = []\n",
    "    for palabras in dataset:\n",
    "        frases = [word for word in palabras.split(' ') if word not in stopw]\n",
    "        frases = \" \".join(frases)\n",
    "        preguntas_sin.append(frases)\n",
    "    return preguntas_sin"
   ]
  },
  {
   "cell_type": "code",
   "execution_count": 18,
   "metadata": {},
   "outputs": [],
   "source": [
    "preguntas_sin = preguntas3 + eliminar_palabras(preguntas3, nom) + eliminar_palabras(preguntas3, st_words)"
   ]
  },
  {
   "cell_type": "code",
   "execution_count": 19,
   "metadata": {},
   "outputs": [],
   "source": [
    "respuestas3 = respuestas3 * 3"
   ]
  },
  {
   "cell_type": "code",
   "execution_count": 20,
   "metadata": {},
   "outputs": [],
   "source": [
    "from sklearn.utils import shuffle\n",
    "\n",
    "preguntas3, respuestas3 = shuffle(preguntas_sin,respuestas3)"
   ]
  },
  {
   "cell_type": "code",
   "execution_count": 21,
   "metadata": {},
   "outputs": [],
   "source": [
    "frases = []\n",
    "palabra_sola = []\n",
    "tokenizer = RegexpTokenizer(r'\\w+')\n",
    "\n",
    "for i,pregunta in enumerate(preguntas_sin):\n",
    "    palabras = tokenizer.tokenize(pregunta)\n",
    "    preguntas_w = []\n",
    "    for j, palabra in enumerate(reversed(palabras)):\n",
    "        preguntas_w.append(palabra)\n",
    "        palabra_sola.append(palabra)\n",
    "        if(j == 10):\n",
    "            continue\n",
    "    frases.append(preguntas_w)"
   ]
  },
  {
   "cell_type": "code",
   "execution_count": 22,
   "metadata": {},
   "outputs": [],
   "source": [
    "palabras_unicas = set(palabra_sola)"
   ]
  },
  {
   "cell_type": "code",
   "execution_count": 23,
   "metadata": {},
   "outputs": [
    {
     "data": {
      "text/plain": [
       "2522"
      ]
     },
     "execution_count": 23,
     "metadata": {},
     "output_type": "execute_result"
    }
   ],
   "source": [
    "len(palabras_unicas)"
   ]
  },
  {
   "cell_type": "code",
   "execution_count": 24,
   "metadata": {},
   "outputs": [],
   "source": [
    "p_unicas = list(palabras_unicas)\n",
    "\n",
    "#Voy a convertir los indices a escala logaritmica para evitar que puedan reventar los pesos en la red neuronal\n",
    "vocabulario = {p:i for i, p in enumerate(p_unicas)}"
   ]
  },
  {
   "cell_type": "code",
   "execution_count": 25,
   "metadata": {},
   "outputs": [
    {
     "name": "stdout",
     "output_type": "stream",
     "text": [
      "El tamano max es  49  y la media de la longitud de las frases es de 17.141341546885695\n"
     ]
    }
   ],
   "source": [
    "tamanoMedio = 0\n",
    "tamanoTotal = 0\n",
    "\n",
    "for pregunta in frases:\n",
    "    if(len(pregunta) > tamanoTotal):\n",
    "        tamanoTotal = len(pregunta)\n",
    "    tamanoMedio = tamanoMedio + len(pregunta)\n",
    "\n",
    "print(\"El tamano max es \", tamanoTotal, \" y la media de la longitud de las frases es de\", tamanoMedio/len(frases))"
   ]
  },
  {
   "cell_type": "code",
   "execution_count": 26,
   "metadata": {},
   "outputs": [],
   "source": [
    "# Voy a meter en este vector todas mis preguntas y todas las palabras.\n",
    "# Para esta prueba, vamos a poner en la posición de la frase, el número de la palabra que estamos procesando.\n",
    "# El objetivo es procesar las palabras teniendo en cuenta el orden secuencial de la frase.\n",
    "bag = np.zeros([len(frases), tamanoTotal, len(palabras_unicas)])"
   ]
  },
  {
   "cell_type": "code",
   "execution_count": 27,
   "metadata": {},
   "outputs": [
    {
     "data": {
      "text/plain": [
       "(2922, 49, 2522)"
      ]
     },
     "execution_count": 27,
     "metadata": {},
     "output_type": "execute_result"
    }
   ],
   "source": [
    "bag.shape"
   ]
  },
  {
   "cell_type": "code",
   "execution_count": 28,
   "metadata": {},
   "outputs": [],
   "source": [
    "for i, pregunta in enumerate(frases):\n",
    "    for j, palabras in enumerate(pregunta):\n",
    "        bag[i, tamanoTotal - len(pregunta) + j, vocabulario[palabras]] = 1.0"
   ]
  },
  {
   "cell_type": "code",
   "execution_count": 29,
   "metadata": {},
   "outputs": [
    {
     "data": {
      "text/plain": [
       "array([0., 0., 0., ..., 0., 0., 0.])"
      ]
     },
     "execution_count": 29,
     "metadata": {},
     "output_type": "execute_result"
    }
   ],
   "source": [
    "bag[0][0]"
   ]
  },
  {
   "cell_type": "code",
   "execution_count": 30,
   "metadata": {},
   "outputs": [],
   "source": [
    "training_X = np.asarray(bag[:1800])\n",
    "test_X = np.asarray(bag[1800:])\n",
    "training_y = np.asarray(respuestas3[:1800])\n",
    "test_y = np.asarray(respuestas3[1800:])\n"
   ]
  },
  {
   "cell_type": "code",
   "execution_count": 39,
   "metadata": {},
   "outputs": [],
   "source": [
    "# Creamos un modelo donde el primer argumento de la capa embedding son las palabras totales que voy a procesar\n",
    "# vectorizadas en un indice.\n",
    "# El segundo argumento, es el tamano del vector embedding, que he fijado en 16.\n",
    "# El tercer argumento, es el tamano o longitud maxima, que he definido para las preguntas. Numero total de palabras\n",
    "# por pregunta.\n",
    "model = keras.Sequential([\n",
    "    keras.layers.Flatten(),\n",
    "    keras.layers.Dense(36, activation='relu'),\n",
    "    keras.layers.Dropout(0.2),\n",
    "    keras.layers.Dense(128, activation='relu'),\n",
    "    keras.layers.Dropout(0.2),\n",
    "    keras.layers.Dense(4, activation='softmax')\n",
    "])\n",
    "\n",
    "#model.compile(loss='sparse_categorical_crossentropy',optimizer='SGD',metrics=['accuracy'])\n",
    "model.compile(loss='sparse_categorical_crossentropy',optimizer='RMSProp',metrics=['accuracy'])\n",
    "#model.compile(loss='sparse_categorical_crossentropy',optimizer='adam',metrics=['accuracy'])"
   ]
  },
  {
   "cell_type": "code",
   "execution_count": null,
   "metadata": {},
   "outputs": [],
   "source": []
  },
  {
   "cell_type": "code",
   "execution_count": 40,
   "metadata": {},
   "outputs": [
    {
     "name": "stdout",
     "output_type": "stream",
     "text": [
      "Epoch 1/140\n",
      "15/15 [==============================] - 3s 188ms/step - loss: 1.3636 - accuracy: 0.3556 - val_loss: 1.3525 - val_accuracy: 0.3752\n",
      "Epoch 2/140\n",
      "15/15 [==============================] - 2s 156ms/step - loss: 1.2843 - accuracy: 0.3717 - val_loss: 1.3488 - val_accuracy: 0.3752\n",
      "Epoch 3/140\n",
      "15/15 [==============================] - 2s 111ms/step - loss: 1.1855 - accuracy: 0.4261 - val_loss: 1.3617 - val_accuracy: 0.3601\n",
      "Epoch 4/140\n",
      "15/15 [==============================] - 2s 121ms/step - loss: 1.0586 - accuracy: 0.5600 - val_loss: 1.3913 - val_accuracy: 0.3476\n",
      "Epoch 5/140\n",
      "15/15 [==============================] - 2s 130ms/step - loss: 0.9132 - accuracy: 0.6839 - val_loss: 1.4376 - val_accuracy: 0.3191\n",
      "Epoch 6/140\n",
      "15/15 [==============================] - 2s 119ms/step - loss: 0.7850 - accuracy: 0.7350 - val_loss: 1.5033 - val_accuracy: 0.2807\n",
      "Epoch 7/140\n",
      "15/15 [==============================] - 2s 120ms/step - loss: 0.6774 - accuracy: 0.7550 - val_loss: 1.5818 - val_accuracy: 0.2656\n",
      "Epoch 8/140\n",
      "15/15 [==============================] - 2s 130ms/step - loss: 0.5992 - accuracy: 0.7572 - val_loss: 1.6558 - val_accuracy: 0.3066\n",
      "Epoch 9/140\n",
      "15/15 [==============================] - 2s 117ms/step - loss: 0.5452 - accuracy: 0.7594 - val_loss: 1.7294 - val_accuracy: 0.2611\n",
      "Epoch 10/140\n",
      "15/15 [==============================] - 2s 139ms/step - loss: 0.5004 - accuracy: 0.7678 - val_loss: 1.8076 - val_accuracy: 0.2745\n",
      "Epoch 11/140\n",
      "15/15 [==============================] - 2s 129ms/step - loss: 0.4702 - accuracy: 0.7694 - val_loss: 1.8857 - val_accuracy: 0.2709\n",
      "Epoch 12/140\n",
      "15/15 [==============================] - 2s 123ms/step - loss: 0.4399 - accuracy: 0.7683 - val_loss: 1.9595 - val_accuracy: 0.2558\n",
      "Epoch 13/140\n",
      "15/15 [==============================] - 2s 123ms/step - loss: 0.4452 - accuracy: 0.7661 - val_loss: 2.0084 - val_accuracy: 0.2549\n",
      "Epoch 14/140\n",
      "15/15 [==============================] - 2s 134ms/step - loss: 0.4250 - accuracy: 0.7689 - val_loss: 2.0650 - val_accuracy: 0.2799\n",
      "Epoch 15/140\n",
      "15/15 [==============================] - 2s 150ms/step - loss: 0.4169 - accuracy: 0.7639 - val_loss: 2.1129 - val_accuracy: 0.2629\n",
      "Epoch 16/140\n",
      "15/15 [==============================] - 2s 131ms/step - loss: 0.4035 - accuracy: 0.7739 - val_loss: 2.1627 - val_accuracy: 0.2665\n",
      "Epoch 17/140\n",
      "15/15 [==============================] - 2s 155ms/step - loss: 0.4069 - accuracy: 0.7667 - val_loss: 2.2026 - val_accuracy: 0.2594\n",
      "Epoch 18/140\n",
      "15/15 [==============================] - 2s 157ms/step - loss: 0.3886 - accuracy: 0.7722 - val_loss: 2.2616 - val_accuracy: 0.2870\n",
      "Epoch 19/140\n",
      "15/15 [==============================] - 2s 141ms/step - loss: 0.3921 - accuracy: 0.7711 - val_loss: 2.2924 - val_accuracy: 0.2816\n",
      "Epoch 20/140\n",
      "15/15 [==============================] - 2s 129ms/step - loss: 0.3891 - accuracy: 0.7694 - val_loss: 2.3207 - val_accuracy: 0.2602\n",
      "Epoch 21/140\n",
      "15/15 [==============================] - 2s 162ms/step - loss: 0.3854 - accuracy: 0.7667 - val_loss: 2.3263 - val_accuracy: 0.2709\n",
      "Epoch 22/140\n",
      "15/15 [==============================] - 2s 137ms/step - loss: 0.3783 - accuracy: 0.7689 - val_loss: 2.3668 - val_accuracy: 0.2656\n",
      "Epoch 23/140\n",
      "15/15 [==============================] - 2s 130ms/step - loss: 0.3818 - accuracy: 0.7656 - val_loss: 2.3857 - val_accuracy: 0.2531\n",
      "Epoch 24/140\n",
      "15/15 [==============================] - 2s 137ms/step - loss: 0.3753 - accuracy: 0.7656 - val_loss: 2.4377 - val_accuracy: 0.2754\n",
      "Epoch 25/140\n",
      "15/15 [==============================] - 2s 128ms/step - loss: 0.3582 - accuracy: 0.7683 - val_loss: 2.4662 - val_accuracy: 0.2674\n",
      "Epoch 26/140\n",
      "15/15 [==============================] - 2s 140ms/step - loss: 0.3571 - accuracy: 0.7783 - val_loss: 2.4944 - val_accuracy: 0.2531\n",
      "Epoch 27/140\n",
      "15/15 [==============================] - 2s 148ms/step - loss: 0.3498 - accuracy: 0.7806 - val_loss: 2.5412 - val_accuracy: 0.2709\n",
      "Epoch 28/140\n",
      "15/15 [==============================] - 2s 123ms/step - loss: 0.3662 - accuracy: 0.7739 - val_loss: 2.5703 - val_accuracy: 0.2754\n",
      "Epoch 29/140\n",
      "15/15 [==============================] - 2s 132ms/step - loss: 0.3413 - accuracy: 0.7794 - val_loss: 2.5875 - val_accuracy: 0.2531\n",
      "Epoch 30/140\n",
      "15/15 [==============================] - 2s 138ms/step - loss: 0.3455 - accuracy: 0.7728 - val_loss: 2.6320 - val_accuracy: 0.2522\n",
      "Epoch 31/140\n",
      "15/15 [==============================] - 2s 113ms/step - loss: 0.3397 - accuracy: 0.7828 - val_loss: 2.6518 - val_accuracy: 0.2620\n",
      "Epoch 32/140\n",
      "15/15 [==============================] - 2s 138ms/step - loss: 0.3429 - accuracy: 0.7850 - val_loss: 2.6756 - val_accuracy: 0.2683\n",
      "Epoch 33/140\n",
      "15/15 [==============================] - 2s 138ms/step - loss: 0.3388 - accuracy: 0.7700 - val_loss: 2.7065 - val_accuracy: 0.2674\n",
      "Epoch 34/140\n",
      "15/15 [==============================] - 2s 148ms/step - loss: 0.3293 - accuracy: 0.7783 - val_loss: 2.7516 - val_accuracy: 0.2540\n",
      "Epoch 35/140\n",
      "15/15 [==============================] - 2s 136ms/step - loss: 0.3399 - accuracy: 0.7733 - val_loss: 2.7829 - val_accuracy: 0.2567\n",
      "Epoch 36/140\n",
      "15/15 [==============================] - 3s 198ms/step - loss: 0.3276 - accuracy: 0.7794 - val_loss: 2.8015 - val_accuracy: 0.2531\n",
      "Epoch 37/140\n",
      "15/15 [==============================] - 3s 185ms/step - loss: 0.3222 - accuracy: 0.7889 - val_loss: 2.8205 - val_accuracy: 0.2638\n",
      "Epoch 38/140\n",
      "15/15 [==============================] - 3s 190ms/step - loss: 0.3305 - accuracy: 0.7772 - val_loss: 2.8583 - val_accuracy: 0.2674\n",
      "Epoch 39/140\n",
      "15/15 [==============================] - 3s 195ms/step - loss: 0.3231 - accuracy: 0.7900 - val_loss: 2.8859 - val_accuracy: 0.2629\n",
      "Epoch 40/140\n",
      "15/15 [==============================] - 3s 179ms/step - loss: 0.3217 - accuracy: 0.7783 - val_loss: 2.9183 - val_accuracy: 0.2567\n",
      "Epoch 41/140\n",
      "15/15 [==============================] - 3s 208ms/step - loss: 0.3135 - accuracy: 0.7833 - val_loss: 2.9349 - val_accuracy: 0.2585\n",
      "Epoch 42/140\n",
      "15/15 [==============================] - 3s 205ms/step - loss: 0.3159 - accuracy: 0.7850 - val_loss: 2.9784 - val_accuracy: 0.2629\n",
      "Epoch 43/140\n",
      "15/15 [==============================] - 3s 193ms/step - loss: 0.3136 - accuracy: 0.7867 - val_loss: 2.9810 - val_accuracy: 0.2531\n",
      "Epoch 44/140\n",
      "15/15 [==============================] - 3s 214ms/step - loss: 0.3157 - accuracy: 0.7939 - val_loss: 3.0079 - val_accuracy: 0.2576\n",
      "Epoch 45/140\n",
      "15/15 [==============================] - 3s 183ms/step - loss: 0.3083 - accuracy: 0.7922 - val_loss: 3.0612 - val_accuracy: 0.2460\n",
      "Epoch 46/140\n",
      "15/15 [==============================] - 3s 182ms/step - loss: 0.3032 - accuracy: 0.7933 - val_loss: 3.1212 - val_accuracy: 0.2683\n",
      "Epoch 47/140\n",
      "15/15 [==============================] - 3s 186ms/step - loss: 0.3035 - accuracy: 0.7844 - val_loss: 3.1433 - val_accuracy: 0.2567\n",
      "Epoch 48/140\n",
      "15/15 [==============================] - 3s 197ms/step - loss: 0.3035 - accuracy: 0.7950 - val_loss: 3.1497 - val_accuracy: 0.2567\n",
      "Epoch 49/140\n",
      "15/15 [==============================] - 3s 208ms/step - loss: 0.3081 - accuracy: 0.7883 - val_loss: 3.1698 - val_accuracy: 0.2585\n",
      "Epoch 50/140\n",
      "15/15 [==============================] - 3s 203ms/step - loss: 0.3038 - accuracy: 0.7906 - val_loss: 3.2085 - val_accuracy: 0.2647\n",
      "Epoch 51/140\n",
      "15/15 [==============================] - 3s 202ms/step - loss: 0.3101 - accuracy: 0.7817 - val_loss: 3.2401 - val_accuracy: 0.2594\n",
      "Epoch 52/140\n",
      "15/15 [==============================] - 3s 202ms/step - loss: 0.3039 - accuracy: 0.7878 - val_loss: 3.2572 - val_accuracy: 0.2665\n",
      "Epoch 53/140\n",
      "15/15 [==============================] - 2s 138ms/step - loss: 0.2968 - accuracy: 0.7956 - val_loss: 3.3059 - val_accuracy: 0.2611\n",
      "Epoch 54/140\n",
      "15/15 [==============================] - 3s 170ms/step - loss: 0.3013 - accuracy: 0.7783 - val_loss: 3.3080 - val_accuracy: 0.2611\n",
      "Epoch 55/140\n",
      "15/15 [==============================] - 2s 154ms/step - loss: 0.2970 - accuracy: 0.7917 - val_loss: 3.3257 - val_accuracy: 0.2611\n",
      "Epoch 56/140\n",
      "15/15 [==============================] - 2s 143ms/step - loss: 0.2963 - accuracy: 0.7933 - val_loss: 3.3312 - val_accuracy: 0.2620\n",
      "Epoch 57/140\n",
      "15/15 [==============================] - 2s 151ms/step - loss: 0.2822 - accuracy: 0.7983 - val_loss: 3.3889 - val_accuracy: 0.2602\n"
     ]
    },
    {
     "name": "stdout",
     "output_type": "stream",
     "text": [
      "Epoch 58/140\n",
      "15/15 [==============================] - 3s 177ms/step - loss: 0.2879 - accuracy: 0.8017 - val_loss: 3.4393 - val_accuracy: 0.2567\n",
      "Epoch 59/140\n",
      "15/15 [==============================] - 2s 120ms/step - loss: 0.2916 - accuracy: 0.8028 - val_loss: 3.4533 - val_accuracy: 0.2540\n",
      "Epoch 60/140\n",
      "15/15 [==============================] - 2s 123ms/step - loss: 0.2897 - accuracy: 0.7889 - val_loss: 3.4920 - val_accuracy: 0.2594\n",
      "Epoch 61/140\n",
      "15/15 [==============================] - 2s 121ms/step - loss: 0.2876 - accuracy: 0.8011 - val_loss: 3.5493 - val_accuracy: 0.2709\n",
      "Epoch 62/140\n",
      "15/15 [==============================] - 2s 125ms/step - loss: 0.2845 - accuracy: 0.7972 - val_loss: 3.5750 - val_accuracy: 0.2683\n",
      "Epoch 63/140\n",
      "15/15 [==============================] - 2s 123ms/step - loss: 0.2866 - accuracy: 0.7956 - val_loss: 3.6091 - val_accuracy: 0.2647\n",
      "Epoch 64/140\n",
      "15/15 [==============================] - 2s 115ms/step - loss: 0.2869 - accuracy: 0.7944 - val_loss: 3.6527 - val_accuracy: 0.2709\n",
      "Epoch 65/140\n",
      "15/15 [==============================] - 2s 116ms/step - loss: 0.2801 - accuracy: 0.8000 - val_loss: 3.6688 - val_accuracy: 0.2567\n",
      "Epoch 66/140\n",
      "15/15 [==============================] - 2s 122ms/step - loss: 0.2790 - accuracy: 0.8050 - val_loss: 3.6983 - val_accuracy: 0.2656\n",
      "Epoch 67/140\n",
      "15/15 [==============================] - 2s 111ms/step - loss: 0.2831 - accuracy: 0.7944 - val_loss: 3.7179 - val_accuracy: 0.2594\n",
      "Epoch 68/140\n",
      "15/15 [==============================] - 2s 128ms/step - loss: 0.2864 - accuracy: 0.7894 - val_loss: 3.7261 - val_accuracy: 0.2594\n",
      "Epoch 69/140\n",
      "15/15 [==============================] - 2s 121ms/step - loss: 0.2862 - accuracy: 0.7856 - val_loss: 3.7521 - val_accuracy: 0.2585\n",
      "Epoch 70/140\n",
      "15/15 [==============================] - 2s 123ms/step - loss: 0.2833 - accuracy: 0.7961 - val_loss: 3.7908 - val_accuracy: 0.2602\n",
      "Epoch 71/140\n",
      "15/15 [==============================] - 2s 123ms/step - loss: 0.2823 - accuracy: 0.7989 - val_loss: 3.8025 - val_accuracy: 0.2629\n",
      "Epoch 72/140\n",
      "15/15 [==============================] - 3s 186ms/step - loss: 0.2725 - accuracy: 0.8083 - val_loss: 3.8687 - val_accuracy: 0.2674\n",
      "Epoch 73/140\n",
      "15/15 [==============================] - 3s 202ms/step - loss: 0.2794 - accuracy: 0.7972 - val_loss: 3.8914 - val_accuracy: 0.2549\n",
      "Epoch 74/140\n",
      "15/15 [==============================] - 3s 180ms/step - loss: 0.2841 - accuracy: 0.7978 - val_loss: 3.9186 - val_accuracy: 0.2602\n",
      "Epoch 75/140\n",
      "15/15 [==============================] - 2s 116ms/step - loss: 0.2800 - accuracy: 0.8056 - val_loss: 3.9004 - val_accuracy: 0.2611\n",
      "Epoch 76/140\n",
      "15/15 [==============================] - 2s 128ms/step - loss: 0.2771 - accuracy: 0.8039 - val_loss: 3.9379 - val_accuracy: 0.2656\n",
      "Epoch 77/140\n",
      "15/15 [==============================] - 2s 139ms/step - loss: 0.2826 - accuracy: 0.7906 - val_loss: 3.9399 - val_accuracy: 0.2513\n",
      "Epoch 78/140\n",
      "15/15 [==============================] - 2s 131ms/step - loss: 0.2733 - accuracy: 0.8072 - val_loss: 3.9653 - val_accuracy: 0.2602\n",
      "Epoch 79/140\n",
      "15/15 [==============================] - 2s 128ms/step - loss: 0.2736 - accuracy: 0.8139 - val_loss: 4.0150 - val_accuracy: 0.2602\n",
      "Epoch 80/140\n",
      "15/15 [==============================] - 2s 121ms/step - loss: 0.2763 - accuracy: 0.8078 - val_loss: 4.0506 - val_accuracy: 0.2629\n",
      "Epoch 81/140\n",
      "15/15 [==============================] - 2s 144ms/step - loss: 0.2769 - accuracy: 0.8078 - val_loss: 4.0753 - val_accuracy: 0.2638\n",
      "Epoch 82/140\n",
      "15/15 [==============================] - 2s 155ms/step - loss: 0.2772 - accuracy: 0.8050 - val_loss: 4.0773 - val_accuracy: 0.2504\n",
      "Epoch 83/140\n",
      "15/15 [==============================] - 2s 126ms/step - loss: 0.2747 - accuracy: 0.8017 - val_loss: 4.1296 - val_accuracy: 0.2665\n",
      "Epoch 84/140\n",
      "15/15 [==============================] - 2s 129ms/step - loss: 0.2760 - accuracy: 0.8061 - val_loss: 4.1470 - val_accuracy: 0.2558\n",
      "Epoch 85/140\n",
      "15/15 [==============================] - 2s 127ms/step - loss: 0.2765 - accuracy: 0.8094 - val_loss: 4.1635 - val_accuracy: 0.2629\n",
      "Epoch 86/140\n",
      "15/15 [==============================] - 2s 157ms/step - loss: 0.2775 - accuracy: 0.7939 - val_loss: 4.1562 - val_accuracy: 0.2602\n",
      "Epoch 87/140\n",
      "15/15 [==============================] - 2s 128ms/step - loss: 0.2773 - accuracy: 0.8011 - val_loss: 4.2306 - val_accuracy: 0.2656\n",
      "Epoch 88/140\n",
      "15/15 [==============================] - 2s 134ms/step - loss: 0.2726 - accuracy: 0.8050 - val_loss: 4.2397 - val_accuracy: 0.2594\n",
      "Epoch 89/140\n",
      "15/15 [==============================] - 2s 124ms/step - loss: 0.2748 - accuracy: 0.8067 - val_loss: 4.1873 - val_accuracy: 0.2531\n",
      "Epoch 90/140\n",
      "15/15 [==============================] - 2s 119ms/step - loss: 0.2742 - accuracy: 0.8006 - val_loss: 4.2484 - val_accuracy: 0.2576\n",
      "Epoch 91/140\n",
      "15/15 [==============================] - 2s 128ms/step - loss: 0.2727 - accuracy: 0.8061 - val_loss: 4.2416 - val_accuracy: 0.2558\n",
      "Epoch 92/140\n",
      "15/15 [==============================] - 2s 140ms/step - loss: 0.2712 - accuracy: 0.8089 - val_loss: 4.3157 - val_accuracy: 0.2576\n",
      "Epoch 93/140\n",
      "15/15 [==============================] - 2s 127ms/step - loss: 0.2726 - accuracy: 0.7961 - val_loss: 4.3524 - val_accuracy: 0.2504\n",
      "Epoch 94/140\n",
      "15/15 [==============================] - 2s 130ms/step - loss: 0.2697 - accuracy: 0.8067 - val_loss: 4.3930 - val_accuracy: 0.2522\n",
      "Epoch 95/140\n",
      "15/15 [==============================] - 2s 149ms/step - loss: 0.2691 - accuracy: 0.8094 - val_loss: 4.4040 - val_accuracy: 0.2522\n",
      "Epoch 96/140\n",
      "15/15 [==============================] - 2s 123ms/step - loss: 0.2703 - accuracy: 0.8044 - val_loss: 4.4226 - val_accuracy: 0.2496\n",
      "Epoch 97/140\n",
      "15/15 [==============================] - 3s 195ms/step - loss: 0.2683 - accuracy: 0.8178 - val_loss: 4.4865 - val_accuracy: 0.2620\n",
      "Epoch 98/140\n",
      "15/15 [==============================] - 3s 181ms/step - loss: 0.2695 - accuracy: 0.8144 - val_loss: 4.4945 - val_accuracy: 0.2647\n",
      "Epoch 99/140\n",
      "15/15 [==============================] - 3s 167ms/step - loss: 0.2698 - accuracy: 0.8094 - val_loss: 4.5358 - val_accuracy: 0.2513\n",
      "Epoch 100/140\n",
      "15/15 [==============================] - 2s 164ms/step - loss: 0.2699 - accuracy: 0.8122 - val_loss: 4.5437 - val_accuracy: 0.2567\n",
      "Epoch 101/140\n",
      "15/15 [==============================] - 2s 137ms/step - loss: 0.2697 - accuracy: 0.8056 - val_loss: 4.5358 - val_accuracy: 0.2549\n",
      "Epoch 102/140\n",
      "15/15 [==============================] - 2s 161ms/step - loss: 0.2680 - accuracy: 0.8178 - val_loss: 4.5752 - val_accuracy: 0.2602\n",
      "Epoch 103/140\n",
      "15/15 [==============================] - 2s 124ms/step - loss: 0.2661 - accuracy: 0.8122 - val_loss: 4.6596 - val_accuracy: 0.2576\n",
      "Epoch 104/140\n",
      "15/15 [==============================] - 2s 145ms/step - loss: 0.2724 - accuracy: 0.7983 - val_loss: 4.6603 - val_accuracy: 0.2513\n",
      "Epoch 105/140\n",
      "15/15 [==============================] - 2s 129ms/step - loss: 0.2664 - accuracy: 0.8128 - val_loss: 4.6834 - val_accuracy: 0.2620\n",
      "Epoch 106/140\n",
      "15/15 [==============================] - 2s 120ms/step - loss: 0.2693 - accuracy: 0.8067 - val_loss: 4.6476 - val_accuracy: 0.2549\n",
      "Epoch 107/140\n",
      "15/15 [==============================] - 2s 130ms/step - loss: 0.2712 - accuracy: 0.8028 - val_loss: 4.6206 - val_accuracy: 0.2469\n",
      "Epoch 108/140\n",
      "15/15 [==============================] - 2s 127ms/step - loss: 0.2715 - accuracy: 0.8067 - val_loss: 4.6038 - val_accuracy: 0.2513\n",
      "Epoch 109/140\n",
      "15/15 [==============================] - 2s 113ms/step - loss: 0.2690 - accuracy: 0.8139 - val_loss: 4.6417 - val_accuracy: 0.2558\n",
      "Epoch 110/140\n",
      "15/15 [==============================] - 2s 113ms/step - loss: 0.2699 - accuracy: 0.8067 - val_loss: 4.6534 - val_accuracy: 0.2567\n",
      "Epoch 111/140\n",
      "15/15 [==============================] - 2s 130ms/step - loss: 0.2677 - accuracy: 0.8072 - val_loss: 4.7067 - val_accuracy: 0.2638\n",
      "Epoch 112/140\n",
      "15/15 [==============================] - 2s 114ms/step - loss: 0.2663 - accuracy: 0.8050 - val_loss: 4.7165 - val_accuracy: 0.2567\n",
      "Epoch 113/140\n",
      "15/15 [==============================] - 2s 141ms/step - loss: 0.2695 - accuracy: 0.8050 - val_loss: 4.7490 - val_accuracy: 0.2576\n",
      "Epoch 114/140\n",
      "15/15 [==============================] - 2s 151ms/step - loss: 0.2722 - accuracy: 0.8083 - val_loss: 4.7943 - val_accuracy: 0.2567\n"
     ]
    },
    {
     "name": "stdout",
     "output_type": "stream",
     "text": [
      "Epoch 115/140\n",
      "15/15 [==============================] - 2s 147ms/step - loss: 0.2729 - accuracy: 0.8067 - val_loss: 4.7714 - val_accuracy: 0.2602\n",
      "Epoch 116/140\n",
      "15/15 [==============================] - 2s 117ms/step - loss: 0.2700 - accuracy: 0.8033 - val_loss: 4.7391 - val_accuracy: 0.2611\n",
      "Epoch 117/140\n",
      "15/15 [==============================] - 2s 128ms/step - loss: 0.2683 - accuracy: 0.8094 - val_loss: 4.7691 - val_accuracy: 0.2602\n",
      "Epoch 118/140\n",
      "15/15 [==============================] - 2s 126ms/step - loss: 0.2653 - accuracy: 0.8072 - val_loss: 4.7873 - val_accuracy: 0.2549\n",
      "Epoch 119/140\n",
      "15/15 [==============================] - 2s 139ms/step - loss: 0.2685 - accuracy: 0.8100 - val_loss: 4.8101 - val_accuracy: 0.2567\n",
      "Epoch 120/140\n",
      "15/15 [==============================] - 2s 123ms/step - loss: 0.2670 - accuracy: 0.8144 - val_loss: 4.8802 - val_accuracy: 0.2513\n",
      "Epoch 121/140\n",
      "15/15 [==============================] - 2s 114ms/step - loss: 0.2637 - accuracy: 0.8189 - val_loss: 4.9518 - val_accuracy: 0.2522\n",
      "Epoch 122/140\n",
      "15/15 [==============================] - 2s 116ms/step - loss: 0.2663 - accuracy: 0.8078 - val_loss: 4.9687 - val_accuracy: 0.2629\n",
      "Epoch 123/140\n",
      "15/15 [==============================] - 2s 115ms/step - loss: 0.2692 - accuracy: 0.8111 - val_loss: 4.9768 - val_accuracy: 0.2665\n",
      "Epoch 124/140\n",
      "15/15 [==============================] - 2s 126ms/step - loss: 0.2625 - accuracy: 0.8189 - val_loss: 4.9891 - val_accuracy: 0.2647\n",
      "Epoch 125/140\n",
      "15/15 [==============================] - 2s 117ms/step - loss: 0.2662 - accuracy: 0.8078 - val_loss: 4.9764 - val_accuracy: 0.2549\n",
      "Epoch 126/140\n",
      "15/15 [==============================] - 2s 125ms/step - loss: 0.2628 - accuracy: 0.8072 - val_loss: 5.0607 - val_accuracy: 0.2665\n",
      "Epoch 127/140\n",
      "15/15 [==============================] - 2s 151ms/step - loss: 0.2650 - accuracy: 0.8089 - val_loss: 5.0750 - val_accuracy: 0.2540\n",
      "Epoch 128/140\n",
      "15/15 [==============================] - 2s 158ms/step - loss: 0.2668 - accuracy: 0.8067 - val_loss: 5.0604 - val_accuracy: 0.2531\n",
      "Epoch 129/140\n",
      "15/15 [==============================] - 2s 116ms/step - loss: 0.2637 - accuracy: 0.8117 - val_loss: 5.1444 - val_accuracy: 0.2629\n",
      "Epoch 130/140\n",
      "15/15 [==============================] - 2s 114ms/step - loss: 0.2665 - accuracy: 0.8144 - val_loss: 5.1138 - val_accuracy: 0.2638\n",
      "Epoch 131/140\n",
      "15/15 [==============================] - 2s 138ms/step - loss: 0.2656 - accuracy: 0.8161 - val_loss: 5.0912 - val_accuracy: 0.2558\n",
      "Epoch 132/140\n",
      "15/15 [==============================] - 3s 180ms/step - loss: 0.2686 - accuracy: 0.8144 - val_loss: 5.0870 - val_accuracy: 0.2611\n",
      "Epoch 133/140\n",
      "15/15 [==============================] - 3s 178ms/step - loss: 0.2692 - accuracy: 0.8083 - val_loss: 5.0746 - val_accuracy: 0.2540\n",
      "Epoch 134/140\n",
      "15/15 [==============================] - 3s 180ms/step - loss: 0.2659 - accuracy: 0.8083 - val_loss: 5.1049 - val_accuracy: 0.2540\n",
      "Epoch 135/140\n",
      "15/15 [==============================] - 2s 151ms/step - loss: 0.2684 - accuracy: 0.8167 - val_loss: 5.1096 - val_accuracy: 0.2540\n",
      "Epoch 136/140\n",
      "15/15 [==============================] - 2s 145ms/step - loss: 0.2670 - accuracy: 0.8094 - val_loss: 5.1432 - val_accuracy: 0.2718\n",
      "Epoch 137/140\n",
      "15/15 [==============================] - 2s 135ms/step - loss: 0.2605 - accuracy: 0.8178 - val_loss: 5.1841 - val_accuracy: 0.2611\n",
      "Epoch 138/140\n",
      "15/15 [==============================] - 2s 144ms/step - loss: 0.2691 - accuracy: 0.8072 - val_loss: 5.1571 - val_accuracy: 0.2629\n",
      "Epoch 139/140\n",
      "15/15 [==============================] - 2s 110ms/step - loss: 0.2669 - accuracy: 0.8039 - val_loss: 5.1783 - val_accuracy: 0.2611\n",
      "Epoch 140/140\n",
      "15/15 [==============================] - 2s 119ms/step - loss: 0.2685 - accuracy: 0.8156 - val_loss: 5.1845 - val_accuracy: 0.2692\n"
     ]
    }
   ],
   "source": [
    "history = model.fit(training_X, training_y, epochs = 140, validation_data=(test_X, test_y), batch_size = 128)"
   ]
  },
  {
   "cell_type": "code",
   "execution_count": 41,
   "metadata": {},
   "outputs": [],
   "source": [
    "model2 = keras.Sequential([\n",
    "    keras.layers.Bidirectional(keras.layers.LSTM(128, dropout = 0.2, input_shape=[len(vocabulario), bag.shape[1], bag.shape[2]])),\n",
    "    keras.layers.Dense(4, activation='softmax')\n",
    "])\n",
    "\n",
    "opt = keras.optimizers.RMSprop(learning_rate=0.001,rho=0.9, momentum=0.0, epsilon=1e-07, centered=False)\n",
    "#opt = keras.optimizers.SGD(lr=0.00001, decay=1e-6, momentum=0.9, nesterov=True)\n",
    "#opt = keras.optimizers.Adam(learning_rate = 0.0001)\n",
    "model2.compile(loss='sparse_categorical_crossentropy',optimizer=opt, metrics=['accuracy'])"
   ]
  },
  {
   "cell_type": "code",
   "execution_count": 34,
   "metadata": {},
   "outputs": [
    {
     "data": {
      "text/plain": [
       "(1800, 49, 2522)"
      ]
     },
     "execution_count": 34,
     "metadata": {},
     "output_type": "execute_result"
    }
   ],
   "source": [
    "training_X.shape"
   ]
  },
  {
   "cell_type": "code",
   "execution_count": 42,
   "metadata": {},
   "outputs": [
    {
     "name": "stdout",
     "output_type": "stream",
     "text": [
      "Epoch 1/140\n",
      "15/15 [==============================] - 35s 2s/step - loss: 1.3682 - accuracy: 0.3589 - val_loss: 1.3472 - val_accuracy: 0.3752\n",
      "Epoch 2/140\n",
      "15/15 [==============================] - 33s 2s/step - loss: 1.3247 - accuracy: 0.3711 - val_loss: 1.3454 - val_accuracy: 0.3752\n",
      "Epoch 3/140\n",
      "15/15 [==============================] - 32s 2s/step - loss: 1.3127 - accuracy: 0.3711 - val_loss: 1.3469 - val_accuracy: 0.3752\n",
      "Epoch 4/140\n",
      "15/15 [==============================] - 30s 2s/step - loss: 1.2933 - accuracy: 0.3950 - val_loss: 1.3546 - val_accuracy: 0.3610\n",
      "Epoch 5/140\n",
      "15/15 [==============================] - 34s 2s/step - loss: 1.2382 - accuracy: 0.4378 - val_loss: 2.9152 - val_accuracy: 0.2433\n",
      "Epoch 6/140\n",
      "15/15 [==============================] - 34s 2s/step - loss: 1.2671 - accuracy: 0.4928 - val_loss: 1.5216 - val_accuracy: 0.2594\n",
      "Epoch 7/140\n",
      "15/15 [==============================] - 37s 2s/step - loss: 1.1339 - accuracy: 0.5106 - val_loss: 1.7707 - val_accuracy: 0.3119\n",
      "Epoch 8/140\n",
      "15/15 [==============================] - 31s 2s/step - loss: 1.0878 - accuracy: 0.5400 - val_loss: 1.5638 - val_accuracy: 0.3137\n",
      "Epoch 9/140\n",
      "15/15 [==============================] - 39s 3s/step - loss: 1.0396 - accuracy: 0.5683 - val_loss: 1.4944 - val_accuracy: 0.3048\n",
      "Epoch 10/140\n",
      "15/15 [==============================] - 41s 3s/step - loss: 0.9919 - accuracy: 0.5906 - val_loss: 1.6650 - val_accuracy: 0.3012\n",
      "Epoch 11/140\n",
      "15/15 [==============================] - 43s 3s/step - loss: 0.9632 - accuracy: 0.5939 - val_loss: 1.6264 - val_accuracy: 0.2772\n",
      "Epoch 12/140\n",
      "15/15 [==============================] - 42s 3s/step - loss: 0.9446 - accuracy: 0.5961 - val_loss: 1.6081 - val_accuracy: 0.2433\n",
      "Epoch 13/140\n",
      "15/15 [==============================] - 43s 3s/step - loss: 0.9038 - accuracy: 0.5906 - val_loss: 1.8531 - val_accuracy: 0.2959\n",
      "Epoch 14/140\n",
      "15/15 [==============================] - 43s 3s/step - loss: 0.8568 - accuracy: 0.6167 - val_loss: 2.0255 - val_accuracy: 0.3021\n",
      "Epoch 15/140\n",
      "15/15 [==============================] - 40s 3s/step - loss: 0.8346 - accuracy: 0.6239 - val_loss: 1.6705 - val_accuracy: 0.2843\n",
      "Epoch 16/140\n",
      "15/15 [==============================] - 36s 2s/step - loss: 0.8255 - accuracy: 0.6206 - val_loss: 2.1746 - val_accuracy: 0.2897\n",
      "Epoch 17/140\n",
      "15/15 [==============================] - 37s 2s/step - loss: 0.7814 - accuracy: 0.6267 - val_loss: 1.9163 - val_accuracy: 0.2754\n",
      "Epoch 18/140\n",
      "15/15 [==============================] - 36s 2s/step - loss: 0.7586 - accuracy: 0.6411 - val_loss: 2.3249 - val_accuracy: 0.2754\n",
      "Epoch 19/140\n",
      "15/15 [==============================] - 36s 2s/step - loss: 0.7628 - accuracy: 0.6478 - val_loss: 2.0333 - val_accuracy: 0.2041\n",
      "Epoch 20/140\n",
      "15/15 [==============================] - 37s 2s/step - loss: 0.7758 - accuracy: 0.6406 - val_loss: 2.1187 - val_accuracy: 0.2478\n",
      "Epoch 21/140\n",
      "15/15 [==============================] - 36s 2s/step - loss: 0.7135 - accuracy: 0.6472 - val_loss: 2.5280 - val_accuracy: 0.2763\n",
      "Epoch 22/140\n",
      "15/15 [==============================] - 38s 3s/step - loss: 0.7224 - accuracy: 0.6444 - val_loss: 2.4251 - val_accuracy: 0.2620\n",
      "Epoch 23/140\n",
      "15/15 [==============================] - 35s 2s/step - loss: 0.7063 - accuracy: 0.6539 - val_loss: 2.2886 - val_accuracy: 0.2389\n",
      "Epoch 24/140\n",
      "15/15 [==============================] - 41s 3s/step - loss: 0.7161 - accuracy: 0.6311 - val_loss: 2.4821 - val_accuracy: 0.2594\n",
      "Epoch 25/140\n",
      "15/15 [==============================] - 37s 2s/step - loss: 0.6808 - accuracy: 0.6672 - val_loss: 2.4637 - val_accuracy: 0.2709\n",
      "Epoch 26/140\n",
      "15/15 [==============================] - 39s 3s/step - loss: 0.6695 - accuracy: 0.6672 - val_loss: 2.5067 - val_accuracy: 0.3066\n",
      "Epoch 27/140\n",
      "15/15 [==============================] - 37s 2s/step - loss: 0.6590 - accuracy: 0.6600 - val_loss: 2.5562 - val_accuracy: 0.2415\n",
      "Epoch 28/140\n",
      "15/15 [==============================] - 33s 2s/step - loss: 0.6748 - accuracy: 0.6572 - val_loss: 2.5128 - val_accuracy: 0.2727\n",
      "Epoch 29/140\n",
      "15/15 [==============================] - 34s 2s/step - loss: 0.6487 - accuracy: 0.6656 - val_loss: 2.7906 - val_accuracy: 0.2718\n",
      "Epoch 30/140\n",
      "15/15 [==============================] - 34s 2s/step - loss: 0.6474 - accuracy: 0.6667 - val_loss: 3.0605 - val_accuracy: 0.2790\n",
      "Epoch 31/140\n",
      "15/15 [==============================] - 33s 2s/step - loss: 0.6564 - accuracy: 0.6656 - val_loss: 2.4983 - val_accuracy: 0.2825\n",
      "Epoch 32/140\n",
      "15/15 [==============================] - 37s 2s/step - loss: 0.6378 - accuracy: 0.6672 - val_loss: 2.9234 - val_accuracy: 0.2959\n",
      "Epoch 33/140\n",
      "15/15 [==============================] - 34s 2s/step - loss: 0.6169 - accuracy: 0.6789 - val_loss: 3.0289 - val_accuracy: 0.2701\n",
      "Epoch 34/140\n",
      "15/15 [==============================] - 32s 2s/step - loss: 0.6285 - accuracy: 0.6744 - val_loss: 2.9719 - val_accuracy: 0.2629\n",
      "Epoch 35/140\n",
      "15/15 [==============================] - 33s 2s/step - loss: 0.6104 - accuracy: 0.6778 - val_loss: 2.8765 - val_accuracy: 0.2496\n",
      "Epoch 36/140\n",
      "15/15 [==============================] - 39s 3s/step - loss: 0.6167 - accuracy: 0.6683 - val_loss: 2.5670 - val_accuracy: 0.2968\n",
      "Epoch 37/140\n",
      "15/15 [==============================] - 42s 3s/step - loss: 0.6412 - accuracy: 0.6694 - val_loss: 2.9786 - val_accuracy: 0.2487\n",
      "Epoch 38/140\n",
      "15/15 [==============================] - 40s 3s/step - loss: 0.5923 - accuracy: 0.7028 - val_loss: 2.7575 - val_accuracy: 0.2727\n",
      "Epoch 39/140\n",
      "15/15 [==============================] - 37s 2s/step - loss: 0.5992 - accuracy: 0.6839 - val_loss: 3.0124 - val_accuracy: 0.2611\n",
      "Epoch 40/140\n",
      "15/15 [==============================] - 40s 3s/step - loss: 0.5932 - accuracy: 0.6867 - val_loss: 2.6655 - val_accuracy: 0.2576\n",
      "Epoch 41/140\n",
      "15/15 [==============================] - 35s 2s/step - loss: 0.5947 - accuracy: 0.6839 - val_loss: 3.2379 - val_accuracy: 0.3084\n",
      "Epoch 42/140\n",
      "15/15 [==============================] - 34s 2s/step - loss: 0.6221 - accuracy: 0.6689 - val_loss: 3.1621 - val_accuracy: 0.2478\n",
      "Epoch 43/140\n",
      "15/15 [==============================] - 35s 2s/step - loss: 0.5832 - accuracy: 0.6850 - val_loss: 3.4044 - val_accuracy: 0.2745\n",
      "Epoch 44/140\n",
      "15/15 [==============================] - 35s 2s/step - loss: 0.5949 - accuracy: 0.6961 - val_loss: 3.4356 - val_accuracy: 0.2620\n",
      "Epoch 45/140\n",
      "15/15 [==============================] - 42s 3s/step - loss: 0.5637 - accuracy: 0.6900 - val_loss: 3.3227 - val_accuracy: 0.2406\n",
      "Epoch 46/140\n",
      "15/15 [==============================] - 37s 2s/step - loss: 0.5678 - accuracy: 0.6967 - val_loss: 3.4473 - val_accuracy: 0.2513\n",
      "Epoch 47/140\n",
      "15/15 [==============================] - 38s 3s/step - loss: 0.5656 - accuracy: 0.6939 - val_loss: 3.2025 - val_accuracy: 0.2701\n",
      "Epoch 48/140\n",
      "15/15 [==============================] - 35s 2s/step - loss: 0.5801 - accuracy: 0.6944 - val_loss: 4.1184 - val_accuracy: 0.2852\n",
      "Epoch 49/140\n",
      "15/15 [==============================] - 36s 2s/step - loss: 0.5598 - accuracy: 0.6922 - val_loss: 3.8838 - val_accuracy: 0.2763\n",
      "Epoch 50/140\n",
      "15/15 [==============================] - 36s 2s/step - loss: 0.5511 - accuracy: 0.7100 - val_loss: 3.4196 - val_accuracy: 0.2709\n",
      "Epoch 51/140\n",
      "15/15 [==============================] - 34s 2s/step - loss: 0.5735 - accuracy: 0.7028 - val_loss: 3.4202 - val_accuracy: 0.2540\n",
      "Epoch 52/140\n",
      "15/15 [==============================] - 35s 2s/step - loss: 0.5547 - accuracy: 0.7178 - val_loss: 3.9101 - val_accuracy: 0.2861\n",
      "Epoch 53/140\n",
      "15/15 [==============================] - 35s 2s/step - loss: 0.5568 - accuracy: 0.7000 - val_loss: 3.6306 - val_accuracy: 0.2888\n",
      "Epoch 54/140\n",
      "15/15 [==============================] - 34s 2s/step - loss: 0.5543 - accuracy: 0.7078 - val_loss: 3.4105 - val_accuracy: 0.2692\n",
      "Epoch 55/140\n",
      "15/15 [==============================] - 33s 2s/step - loss: 0.5394 - accuracy: 0.7128 - val_loss: 3.6718 - val_accuracy: 0.2558\n",
      "Epoch 56/140\n",
      "15/15 [==============================] - 33s 2s/step - loss: 0.5382 - accuracy: 0.6950 - val_loss: 3.3711 - val_accuracy: 0.2576\n",
      "Epoch 57/140\n",
      "15/15 [==============================] - 37s 2s/step - loss: 0.5537 - accuracy: 0.7033 - val_loss: 3.4908 - val_accuracy: 0.2745\n",
      "Epoch 58/140\n",
      "15/15 [==============================] - 35s 2s/step - loss: 0.5311 - accuracy: 0.7161 - val_loss: 3.5754 - val_accuracy: 0.2504\n"
     ]
    },
    {
     "name": "stdout",
     "output_type": "stream",
     "text": [
      "Epoch 59/140\n",
      "15/15 [==============================] - 34s 2s/step - loss: 0.5336 - accuracy: 0.7194 - val_loss: 4.2160 - val_accuracy: 0.2843\n",
      "Epoch 60/140\n",
      "15/15 [==============================] - 34s 2s/step - loss: 0.5529 - accuracy: 0.7072 - val_loss: 3.1451 - val_accuracy: 0.2843\n",
      "Epoch 61/140\n",
      "15/15 [==============================] - 34s 2s/step - loss: 0.5245 - accuracy: 0.7122 - val_loss: 3.3229 - val_accuracy: 0.2567\n",
      "Epoch 62/140\n",
      "15/15 [==============================] - 34s 2s/step - loss: 0.5327 - accuracy: 0.7111 - val_loss: 4.3398 - val_accuracy: 0.2799\n",
      "Epoch 63/140\n",
      "15/15 [==============================] - 33s 2s/step - loss: 0.5204 - accuracy: 0.7122 - val_loss: 3.4002 - val_accuracy: 0.2567\n",
      "Epoch 64/140\n",
      "15/15 [==============================] - 35s 2s/step - loss: 0.5239 - accuracy: 0.7211 - val_loss: 3.9195 - val_accuracy: 0.2692\n",
      "Epoch 65/140\n",
      "15/15 [==============================] - 39s 3s/step - loss: 0.5252 - accuracy: 0.7139 - val_loss: 4.2284 - val_accuracy: 0.2594\n",
      "Epoch 66/140\n",
      "15/15 [==============================] - 36s 2s/step - loss: 0.5200 - accuracy: 0.7267 - val_loss: 3.7300 - val_accuracy: 0.2683\n",
      "Epoch 67/140\n",
      "15/15 [==============================] - 40s 3s/step - loss: 0.5187 - accuracy: 0.7228 - val_loss: 3.4045 - val_accuracy: 0.2629\n",
      "Epoch 68/140\n",
      "15/15 [==============================] - 38s 3s/step - loss: 0.5418 - accuracy: 0.7150 - val_loss: 3.8320 - val_accuracy: 0.2371\n",
      "Epoch 69/140\n",
      "15/15 [==============================] - 34s 2s/step - loss: 0.5287 - accuracy: 0.7228 - val_loss: 4.1388 - val_accuracy: 0.2754\n",
      "Epoch 70/140\n",
      "15/15 [==============================] - 41s 3s/step - loss: 0.5421 - accuracy: 0.7050 - val_loss: 4.1076 - val_accuracy: 0.2647\n",
      "Epoch 71/140\n",
      "15/15 [==============================] - 31s 2s/step - loss: 0.4978 - accuracy: 0.7250 - val_loss: 3.7066 - val_accuracy: 0.2736\n",
      "Epoch 72/140\n",
      "15/15 [==============================] - 32s 2s/step - loss: 0.4858 - accuracy: 0.7294 - val_loss: 3.9610 - val_accuracy: 0.2852\n",
      "Epoch 73/140\n",
      "15/15 [==============================] - 42s 3s/step - loss: 0.5052 - accuracy: 0.7311 - val_loss: 3.7405 - val_accuracy: 0.2567\n",
      "Epoch 74/140\n",
      "15/15 [==============================] - 36s 2s/step - loss: 0.4892 - accuracy: 0.7300 - val_loss: 4.2403 - val_accuracy: 0.2602\n",
      "Epoch 75/140\n",
      "15/15 [==============================] - 34s 2s/step - loss: 0.4982 - accuracy: 0.7383 - val_loss: 4.0620 - val_accuracy: 0.2923\n",
      "Epoch 76/140\n",
      "15/15 [==============================] - 33s 2s/step - loss: 0.5101 - accuracy: 0.7261 - val_loss: 3.9599 - val_accuracy: 0.2754\n",
      "Epoch 77/140\n",
      "15/15 [==============================] - 33s 2s/step - loss: 0.4770 - accuracy: 0.7394 - val_loss: 4.0531 - val_accuracy: 0.2807\n",
      "Epoch 78/140\n",
      "15/15 [==============================] - 29s 2s/step - loss: 0.4909 - accuracy: 0.7372 - val_loss: 3.9377 - val_accuracy: 0.2683\n",
      "Epoch 79/140\n",
      "15/15 [==============================] - 29s 2s/step - loss: 0.5187 - accuracy: 0.7333 - val_loss: 3.8152 - val_accuracy: 0.2790\n",
      "Epoch 80/140\n",
      "15/15 [==============================] - 29s 2s/step - loss: 0.4837 - accuracy: 0.7317 - val_loss: 4.2442 - val_accuracy: 0.2718\n",
      "Epoch 81/140\n",
      "15/15 [==============================] - 29s 2s/step - loss: 0.4872 - accuracy: 0.7411 - val_loss: 4.3386 - val_accuracy: 0.2897\n",
      "Epoch 82/140\n",
      "15/15 [==============================] - 29s 2s/step - loss: 0.4845 - accuracy: 0.7389 - val_loss: 4.4749 - val_accuracy: 0.2745\n",
      "Epoch 83/140\n",
      "15/15 [==============================] - 28s 2s/step - loss: 0.4762 - accuracy: 0.7411 - val_loss: 4.7093 - val_accuracy: 0.2986\n",
      "Epoch 84/140\n",
      "15/15 [==============================] - 34s 2s/step - loss: 0.4953 - accuracy: 0.7261 - val_loss: 3.9794 - val_accuracy: 0.2727\n",
      "Epoch 85/140\n",
      "15/15 [==============================] - 28s 2s/step - loss: 0.4666 - accuracy: 0.7444 - val_loss: 4.6663 - val_accuracy: 0.2772\n",
      "Epoch 86/140\n",
      "15/15 [==============================] - 30s 2s/step - loss: 0.4818 - accuracy: 0.7406 - val_loss: 4.5257 - val_accuracy: 0.2888\n",
      "Epoch 87/140\n",
      "15/15 [==============================] - 30s 2s/step - loss: 0.4805 - accuracy: 0.7450 - val_loss: 4.4567 - val_accuracy: 0.2683\n",
      "Epoch 88/140\n",
      "15/15 [==============================] - 28s 2s/step - loss: 0.4903 - accuracy: 0.7367 - val_loss: 4.2554 - val_accuracy: 0.2790\n",
      "Epoch 89/140\n",
      "15/15 [==============================] - 30s 2s/step - loss: 0.4692 - accuracy: 0.7406 - val_loss: 4.1003 - val_accuracy: 0.2807\n",
      "Epoch 90/140\n",
      "15/15 [==============================] - 26s 2s/step - loss: 0.4731 - accuracy: 0.7450 - val_loss: 4.6175 - val_accuracy: 0.2665\n",
      "Epoch 91/140\n",
      "15/15 [==============================] - 26s 2s/step - loss: 0.4602 - accuracy: 0.7483 - val_loss: 4.4858 - val_accuracy: 0.2745\n",
      "Epoch 92/140\n",
      "15/15 [==============================] - 26s 2s/step - loss: 0.4567 - accuracy: 0.7478 - val_loss: 4.1541 - val_accuracy: 0.2816\n",
      "Epoch 93/140\n",
      "15/15 [==============================] - 25s 2s/step - loss: 0.4633 - accuracy: 0.7444 - val_loss: 3.9104 - val_accuracy: 0.2594\n",
      "Epoch 94/140\n",
      "15/15 [==============================] - 31s 2s/step - loss: 0.4793 - accuracy: 0.7389 - val_loss: 4.4984 - val_accuracy: 0.2754\n",
      "Epoch 95/140\n",
      "15/15 [==============================] - 32s 2s/step - loss: 0.4670 - accuracy: 0.7478 - val_loss: 4.6198 - val_accuracy: 0.2469\n",
      "Epoch 96/140\n",
      "15/15 [==============================] - 30s 2s/step - loss: 0.4771 - accuracy: 0.7333 - val_loss: 4.2969 - val_accuracy: 0.2870\n",
      "Epoch 97/140\n",
      "15/15 [==============================] - 31s 2s/step - loss: 0.4756 - accuracy: 0.7289 - val_loss: 4.5734 - val_accuracy: 0.2701\n",
      "Epoch 98/140\n",
      "15/15 [==============================] - 33s 2s/step - loss: 0.4766 - accuracy: 0.7289 - val_loss: 4.0769 - val_accuracy: 0.2611\n",
      "Epoch 99/140\n",
      "15/15 [==============================] - 31s 2s/step - loss: 0.4662 - accuracy: 0.7478 - val_loss: 4.1318 - val_accuracy: 0.2692\n",
      "Epoch 100/140\n",
      "15/15 [==============================] - 32s 2s/step - loss: 0.4429 - accuracy: 0.7522 - val_loss: 4.1066 - val_accuracy: 0.2665\n",
      "Epoch 101/140\n",
      "15/15 [==============================] - 34s 2s/step - loss: 0.4503 - accuracy: 0.7578 - val_loss: 4.7095 - val_accuracy: 0.2629\n",
      "Epoch 102/140\n",
      "15/15 [==============================] - 40s 3s/step - loss: 0.4606 - accuracy: 0.7478 - val_loss: 4.6333 - val_accuracy: 0.2799\n",
      "Epoch 103/140\n",
      "15/15 [==============================] - 32s 2s/step - loss: 0.4763 - accuracy: 0.7417 - val_loss: 4.0027 - val_accuracy: 0.2620\n",
      "Epoch 104/140\n",
      "15/15 [==============================] - 33s 2s/step - loss: 0.4560 - accuracy: 0.7489 - val_loss: 4.3969 - val_accuracy: 0.2576\n",
      "Epoch 105/140\n",
      "15/15 [==============================] - 39s 3s/step - loss: 0.4381 - accuracy: 0.7539 - val_loss: 4.5678 - val_accuracy: 0.2709\n",
      "Epoch 106/140\n",
      "15/15 [==============================] - 34s 2s/step - loss: 0.4493 - accuracy: 0.7522 - val_loss: 4.2668 - val_accuracy: 0.2656\n",
      "Epoch 107/140\n",
      "15/15 [==============================] - 35s 2s/step - loss: 0.4501 - accuracy: 0.7494 - val_loss: 4.5158 - val_accuracy: 0.2602\n",
      "Epoch 108/140\n",
      "15/15 [==============================] - 36s 2s/step - loss: 0.4457 - accuracy: 0.7622 - val_loss: 4.7007 - val_accuracy: 0.2611\n",
      "Epoch 109/140\n",
      "15/15 [==============================] - 31s 2s/step - loss: 0.4309 - accuracy: 0.7478 - val_loss: 4.2159 - val_accuracy: 0.2683\n",
      "Epoch 110/140\n",
      "15/15 [==============================] - 32s 2s/step - loss: 0.4440 - accuracy: 0.7539 - val_loss: 4.7478 - val_accuracy: 0.2745\n",
      "Epoch 111/140\n",
      "15/15 [==============================] - 31s 2s/step - loss: 0.4400 - accuracy: 0.7561 - val_loss: 3.7351 - val_accuracy: 0.2647\n",
      "Epoch 112/140\n",
      "15/15 [==============================] - 31s 2s/step - loss: 0.4439 - accuracy: 0.7472 - val_loss: 5.2126 - val_accuracy: 0.2959\n",
      "Epoch 113/140\n",
      "15/15 [==============================] - 34s 2s/step - loss: 0.4336 - accuracy: 0.7522 - val_loss: 4.7782 - val_accuracy: 0.2683\n",
      "Epoch 114/140\n",
      "15/15 [==============================] - 28s 2s/step - loss: 0.4488 - accuracy: 0.7439 - val_loss: 4.6424 - val_accuracy: 0.2638\n",
      "Epoch 115/140\n",
      "15/15 [==============================] - 29s 2s/step - loss: 0.4307 - accuracy: 0.7428 - val_loss: 4.9980 - val_accuracy: 0.2701\n",
      "Epoch 116/140\n"
     ]
    },
    {
     "name": "stdout",
     "output_type": "stream",
     "text": [
      "15/15 [==============================] - 29s 2s/step - loss: 0.4229 - accuracy: 0.7539 - val_loss: 4.3373 - val_accuracy: 0.2674\n",
      "Epoch 117/140\n",
      "15/15 [==============================] - 30s 2s/step - loss: 0.4243 - accuracy: 0.7717 - val_loss: 4.8749 - val_accuracy: 0.2602\n",
      "Epoch 118/140\n",
      "15/15 [==============================] - 29s 2s/step - loss: 0.4224 - accuracy: 0.7661 - val_loss: 4.9204 - val_accuracy: 0.2736\n",
      "Epoch 119/140\n",
      "15/15 [==============================] - 29s 2s/step - loss: 0.4219 - accuracy: 0.7650 - val_loss: 4.4136 - val_accuracy: 0.2487\n",
      "Epoch 120/140\n",
      "15/15 [==============================] - 29s 2s/step - loss: 0.4426 - accuracy: 0.7639 - val_loss: 4.6275 - val_accuracy: 0.2594\n",
      "Epoch 121/140\n",
      "15/15 [==============================] - 29s 2s/step - loss: 0.4068 - accuracy: 0.7722 - val_loss: 4.6191 - val_accuracy: 0.2647\n",
      "Epoch 122/140\n",
      "15/15 [==============================] - 30s 2s/step - loss: 0.4067 - accuracy: 0.7750 - val_loss: 4.9872 - val_accuracy: 0.2513\n",
      "Epoch 123/140\n",
      "15/15 [==============================] - 32s 2s/step - loss: 0.4239 - accuracy: 0.7611 - val_loss: 4.8834 - val_accuracy: 0.2504\n",
      "Epoch 124/140\n",
      "15/15 [==============================] - 29s 2s/step - loss: 0.4228 - accuracy: 0.7600 - val_loss: 4.9320 - val_accuracy: 0.2602\n",
      "Epoch 125/140\n",
      "15/15 [==============================] - 29s 2s/step - loss: 0.4174 - accuracy: 0.7583 - val_loss: 4.7464 - val_accuracy: 0.2585\n",
      "Epoch 126/140\n",
      "15/15 [==============================] - 28s 2s/step - loss: 0.4125 - accuracy: 0.7428 - val_loss: 5.2874 - val_accuracy: 0.2701\n",
      "Epoch 127/140\n",
      "15/15 [==============================] - 30s 2s/step - loss: 0.4283 - accuracy: 0.7517 - val_loss: 4.2815 - val_accuracy: 0.2683\n",
      "Epoch 128/140\n",
      "15/15 [==============================] - 29s 2s/step - loss: 0.4286 - accuracy: 0.7594 - val_loss: 4.8913 - val_accuracy: 0.2754\n",
      "Epoch 129/140\n",
      "15/15 [==============================] - 29s 2s/step - loss: 0.4114 - accuracy: 0.7600 - val_loss: 4.7609 - val_accuracy: 0.2718\n",
      "Epoch 130/140\n",
      "15/15 [==============================] - 32s 2s/step - loss: 0.4235 - accuracy: 0.7667 - val_loss: 4.6776 - val_accuracy: 0.2736\n",
      "Epoch 131/140\n",
      "15/15 [==============================] - 28s 2s/step - loss: 0.4211 - accuracy: 0.7650 - val_loss: 4.7007 - val_accuracy: 0.2799\n",
      "Epoch 132/140\n",
      "15/15 [==============================] - 30s 2s/step - loss: 0.4068 - accuracy: 0.7650 - val_loss: 4.4768 - val_accuracy: 0.2549\n",
      "Epoch 133/140\n",
      "15/15 [==============================] - 29s 2s/step - loss: 0.4160 - accuracy: 0.7706 - val_loss: 5.1853 - val_accuracy: 0.2665\n",
      "Epoch 134/140\n",
      "15/15 [==============================] - 29s 2s/step - loss: 0.4074 - accuracy: 0.7683 - val_loss: 4.7769 - val_accuracy: 0.2567\n",
      "Epoch 135/140\n",
      "15/15 [==============================] - 28s 2s/step - loss: 0.4115 - accuracy: 0.7683 - val_loss: 5.2337 - val_accuracy: 0.2763\n",
      "Epoch 136/140\n",
      "15/15 [==============================] - 30s 2s/step - loss: 0.4125 - accuracy: 0.7606 - val_loss: 4.9907 - val_accuracy: 0.2549\n",
      "Epoch 137/140\n",
      "15/15 [==============================] - 29s 2s/step - loss: 0.4046 - accuracy: 0.7656 - val_loss: 4.9314 - val_accuracy: 0.2674\n",
      "Epoch 138/140\n",
      "15/15 [==============================] - 29s 2s/step - loss: 0.4184 - accuracy: 0.7622 - val_loss: 5.1903 - val_accuracy: 0.2531\n",
      "Epoch 139/140\n",
      "15/15 [==============================] - 29s 2s/step - loss: 0.4220 - accuracy: 0.7533 - val_loss: 5.2836 - val_accuracy: 0.2790\n",
      "Epoch 140/140\n",
      "15/15 [==============================] - 29s 2s/step - loss: 0.4162 - accuracy: 0.7694 - val_loss: 4.4869 - val_accuracy: 0.2852\n"
     ]
    }
   ],
   "source": [
    "history2 = model2.fit(training_X, training_y, epochs = 140, batch_size= 128, validation_data=(test_X, test_y))"
   ]
  },
  {
   "cell_type": "code",
   "execution_count": 43,
   "metadata": {},
   "outputs": [],
   "source": [
    "import matplotlib.pyplot as plt\n",
    "\n",
    "def resultados(history):\n",
    "    pd.DataFrame(history.history).plot(figsize = (8,5))\n",
    "    plt.grid(True)\n",
    "    plt.gca().set_ylim(0,1)\n",
    "    plt.show()"
   ]
  },
  {
   "cell_type": "code",
   "execution_count": 44,
   "metadata": {},
   "outputs": [
    {
     "data": {
      "image/png": "[encoded data removed]",
      "text/plain": [
       "<Figure size 576x360 with 1 Axes>"
      ]
     },
     "metadata": {
      "needs_background": "light"
     },
     "output_type": "display_data"
    }
   ],
   "source": [
    "resultados(history)"
   ]
  },
  {
   "cell_type": "code",
   "execution_count": 45,
   "metadata": {},
   "outputs": [
    {
     "data": {
      "image/png": "[encoded data removed]",
      "text/plain": [
       "<Figure size 576x360 with 1 Axes>"
      ]
     },
     "metadata": {
      "needs_background": "light"
     },
     "output_type": "display_data"
    }
   ],
   "source": [
    "resultados(history2)"
   ]
  }
 ],
 "metadata": {
  "kernelspec": {
   "display_name": "Python 3",
   "language": "python",
   "name": "python3"
  },
  "language_info": {
   "codemirror_mode": {
    "name": "ipython",
    "version": 3
   },
   "file_extension": ".py",
   "mimetype": "text/x-python",
   "name": "python",
   "nbconvert_exporter": "python",
   "pygments_lexer": "ipython3",
   "version": "3.7.9"
  }
 },
 "nbformat": 4,
 "nbformat_minor": 4
}
